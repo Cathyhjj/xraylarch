{
 "cells": [
  {
   "cell_type": "markdown",
   "metadata": {},
   "source": [
    "# Example of working with Larix Session Files\n",
    "\n",
    "A Larix Session File contains the data from a session of running the Larix GUI for XAFS analysis. \n",
    "In contrast to an Athena Project File, which stores the mu(E) data and processing parameters for \n",
    "each group of data in an Athena session, a Larix Session file will contain all the array and \n",
    "non-array data for all groups in a Larix Session.  This will including processing results such as\n",
    "fitting histories for Feff-fitting, Pre-edge peaking fitting and linear analyses such as PCA. \n",
    "\n",
    "Because it is primary goal is to save sessions for the Larix GUI program, the structure of the\n",
    "file is not necessarily intuitive.  On the other hand, once seen, the structure is\n",
    "not too hard to work with.\n",
    "\n",
    "Larix files use JSON encoding, and are compressed with the gzip algorithm.  There are really only \n",
    "three top-level quantities\n",
    "   1. confg:   configuration information about the Larix Session.\n",
    "   2. command_history:  history of Larch commands run by the Larix Session\n",
    "   3. symbols:  the data in the Larch symbol table used in the Larix Session"
   ]
  },
  {
   "cell_type": "code",
   "execution_count": 23,
   "metadata": {},
   "outputs": [
    {
     "name": "stdout",
     "output_type": "stream",
     "text": [
      "['__add__', '__class__', '__class_getitem__', '__contains__', '__delattr__', '__dir__', '__doc__', '__eq__', '__format__', '__ge__', '__getattribute__', '__getitem__', '__getnewargs__', '__getstate__', '__gt__', '__hash__', '__init__', '__init_subclass__', '__iter__', '__le__', '__len__', '__lt__', '__match_args__', '__module__', '__mul__', '__ne__', '__new__', '__reduce__', '__reduce_ex__', '__repr__', '__rmul__', '__setattr__', '__sizeof__', '__slots__', '__str__', '__subclasshook__', '_asdict', '_field_defaults', '_fields', '_make', '_replace', 'command_history', 'config', 'count', 'index', 'symbols']\n"
     ]
    }
   ],
   "source": [
    "# we can open an exisiting Larix session with the `read_session` function\n",
    "\n",
    "from pathlib import Path\n",
    "from larch.io import read_session\n",
    "\n",
    "session = read_session(Path('..', 'LarixSessions', 'ZnSe_Feffit.larix'))\n",
    "print(dir(session))"
   ]
  },
  {
   "cell_type": "code",
   "execution_count": 6,
   "metadata": {},
   "outputs": [
    {
     "name": "stdout",
     "output_type": "stream",
     "text": [
      "Larix Version : 1.0\n",
      "Date Saved : 2024-03-17 21:51:57\n",
      "Machine Platform : Darwin\n",
      "Machine Name : Borges.attlocal.net\n",
      "Machine MACID : aa0aaa3a837d\n",
      "Machine Version : Darwin Kernel Version 23.3.0: Wed Dec 20 21:30:44 PST 2023; root:xnu-10002.81.5~7/RELEASE_ARM64_T6000\n",
      "Machine Processor : x86_64\n",
      "Machine Architecture : 64bit:\n",
      "Python Version : 3.11.5\n",
      "Python Compiler : Clang 15.0.7\n",
      "Python Implementation : CPython\n",
      "Larch Release Version : 0.9.74\n",
      "Larch Release Date : 2023-Nov-14\n",
      "Larch Core Groups : ['_main', '_sys', '_builtin', '_math', '_math.transforms', '_io', '_xray', '_xrf', '_xafs', '_xrd', '_sys.wx', '_plotter', '_epics']\n",
      "Larch history_file : \"/Users/Newville/.larch/history.lar\"\n",
      "Larch home_dir : \"/Users/Newville\"\n",
      "Larch init_files : ['/Users/Newville/.larch/init.lar']\n",
      "Larch larch_version : \"0.9.74.post132+g5905770e.d20240316\"\n",
      "Larch release_version : \"0.9.74\"\n",
      "Larch user_larchdir : \"/Users/Newville/.larch\"\n"
     ]
    }
   ],
   "source": [
    "# We can print out the configuration:\n",
    "for k, v in session.config.items():\n",
    "    print(f\"{k} : {v}\")\n",
    "    \n",
    "# which gives pretty basic information about the session, like the date saved, the version of Larch, OS, etc."
   ]
  },
  {
   "cell_type": "code",
   "execution_count": 9,
   "metadata": {},
   "outputs": [
    {
     "name": "stdout",
     "output_type": "stream",
     "text": [
      "##Commands:\n",
      "# larch history saved Sun Mar 17 21:51:57 2024\n",
      "# create feffit Parameter Group to hold fit parameters\n",
      "_feffit_params = param_group(reff=-1.0)\n",
      "\n",
      "# make sure dictionary for Feff Paths exists\n",
      "try:\n",
      "    npaths = len(_feffpaths.keys())\n",
      "except:\n",
      "    _feffcache = {'paths':{}, 'runs':{}}  # group of all paths, info about Feff runs\n",
      "    _feffpaths = {}    # dict of paths currently in use, copied from _feffcache.paths\n",
      "#endtry\n",
      "\n",
      "_tmpfile_ = read_gsescan('/Users/Newville/Codes/xraylarch/examples/xafsdata/znse_zn_xafs.001')\n",
      "znseznxaf = read_gsescan('/Users/Newville/Codes/xraylarch/examples/xafsdata/znse_zn_xafs.001', labels='energy, scaler count time, i0, i1')\n",
      "znseznxaf.path = '/Users/Newville/Codes/xraylarch/examples/xafsdata/znse_zn_xafs.001'\n",
      "znseznxaf.is_frozen = False\n",
      "znseznxaf.energy_ref = 'znseznxaf'\n",
      "znseznxaf.datatype = 'xas'\n",
      "znseznxaf.plot_xlabel = 'energy'\n",
      "znseznxaf.plot_ylabel = '-log(i1/i0)'\n",
      "znseznxaf.xdat = znseznxaf.data[0, : ]\n",
      "znseznxaf.ydat = -safe_log(znseznxaf.data[3, : ]/znseznxaf.data[2, : ])\n",
      "znseznxaf.yerr = 1.0\n",
      "znseznxaf.xdat = znseznxaf.x\n",
      "znseznxaf.energy = znseznxaf.xdat\n",
      "znseznxaf.mu = znseznxaf.ydat\n",
      "sort_xafs(znseznxaf, overwrite=True, fix_repeats=True)\n",
      "znseznxaf.groupname = 'znseznxaf'\n",
      "znseznxaf.filename = 'znse_zn_xafs.001'\n",
      "znseznxaf.config = group(__name__='larix config')\n",
      "znseznxaf.journal = journal(source='/Users/Newville/Codes/xraylarch/examples/xafsdata/znse_zn_xafs.001', xdat='energy', ydat='-log(i1/i0)', source_desc='znse_zn_xafs.001: -log(i1/i0)', yerr='1.0')\n",
      "znseznxaf.energy_orig = znseznxaf.energy[:]\n",
      "znseznxaf.i0 = znseznxaf.data[2, :]\n",
      "znseznxaf.energy_shift = 0.0000\n",
      "znseznxaf.energy = znseznxaf.xdat = znseznxaf.energy_orig + znseznxaf.energy_shift\n",
      "pre_edge(znseznxaf, pre1=-200.00, pre2=-25.00, nvict=0, nnorm=None, norm1=100.00, norm2=-1.00)\n",
      "znseznxaf.norm_poly = 1.0*znseznxaf.norm\n",
      "pre_edge(znseznxaf, pre1=-154.75, pre2=-25.00, nvict=0, nnorm=2, norm1=100.00, norm2=742.01)\n",
      "znseznxaf.norm_poly = 1.0*znseznxaf.norm\n",
      "autobk(znseznxaf, rbkg= 1.000, ek0= 9663.7500,\n",
      "      kmin= 0.000, kmax= 14.000, kweight= 1.0,\n",
      "      clamp_lo= 1.0, clamp_hi= 20.0)\n",
      "xftf(znseznxaf, kmin= 2.000, kmax= 13.500, dk= 4.000,\n",
      "      kweight= 2.000, window='Kaiser-Bessel', rmax_out=12.000)\n",
      "xftr(znseznxaf, rmin= 1.000, rmax= 6.000,\n",
      "      dr= 0.500, window='Hanning')\n",
      "autobk(znseznxaf, rbkg= 1.100, ek0= 9663.7500,\n",
      "      kmin= 0.000, kmax= 14.000, kweight= 1.0,\n",
      "      clamp_lo= 1.0, clamp_hi= 20.0)\n",
      "xftf(znseznxaf, kmin= 2.000, kmax= 13.500, dk= 4.000,\n",
      "      kweight= 2.000, window='Kaiser-Bessel', rmax_out=12.000)\n",
      "xftr(znseznxaf, rmin= 1.100, rmax= 6.000,\n",
      "      dr= 0.500, window='Hanning')\n",
      "plot_chik(znseznxaf, show_window=False, kweight=2, win=1, title=\"znse_zn_xafs.001\")\n",
      "autobk(znseznxaf, rbkg= 1.100, ek0= 9668.0000,\n",
      "      kmin= 0.000, kmax= 14.000, kweight= 1.0,\n",
      "      clamp_lo= 1.0, clamp_hi= 20.0)\n",
      "xftf(znseznxaf, kmin= 2.000, kmax= 13.500, dk= 4.000,\n",
      "      kweight= 2.000, window='Kaiser-Bessel', rmax_out=12.000)\n",
      "xftr(znseznxaf, rmin= 1.100, rmax= 6.000,\n",
      "      dr= 0.500, window='Hanning')\n",
      "plot_chik(znseznxaf, show_window=False, kweight=2, win=1, title=\"znse_zn_xafs.001\")\n",
      "autobk(znseznxaf, rbkg= 1.100, ek0= 9668.0000,\n",
      "      kmin= 0.000, kmax= 14.000, kweight= 0.0,\n",
      "      clamp_lo= 1.0, clamp_hi= 20.0)\n",
      "xftf(znseznxaf, kmin= 2.000, kmax= 13.500, dk= 4.000,\n",
      "      kweight= 2.000, window='Kaiser-Bessel', rmax_out=12.000)\n",
      "xftr(znseznxaf, rmin= 1.100, rmax= 6.000,\n",
      "      dr= 0.500, window='Hanning')\n",
      "plot_chik(znseznxaf, show_window=False, kweight=2, win=1, title=\"znse_zn_xafs.001\")\n",
      "autobk(znseznxaf, rbkg= 1.100, ek0= 9668.0000,\n",
      "      kmin= 0.000, kmax= 14.000, kweight= 1.0,\n",
      "      clamp_lo= 1.0, clamp_hi= 20.0)\n",
      "xftf(znseznxaf, kmin= 2.000, kmax= 13.500, dk= 4.000,\n",
      "      kweight= 2.000, window='Kaiser-Bessel', rmax_out=12.000)\n",
      "xftr(znseznxaf, rmin= 1.100, rmax= 6.000,\n",
      "      dr= 0.500, window='Hanning')\n",
      "plot_chik(znseznxaf, show_window=False, kweight=2, win=1, title=\"znse_zn_xafs.001\")\n",
      "autobk(znseznxaf, rbkg= 1.100, ek0= 9668.0000,\n",
      "      kmin= 0.000, kmax= 14.000, kweight= 2.0,\n",
      "      clamp_lo= 1.0, clamp_hi= 20.0)\n",
      "xftf(znseznxaf, kmin= 2.500, kmax= 13.500, dk= 4.000,\n",
      "      kweight= 2.000, window='Kaiser-Bessel', rmax_out=12.000)\n",
      "xftr(znseznxaf, rmin= 1.100, rmax= 6.000,\n",
      "      dr= 0.500, window='Hanning')\n",
      "plot_chik(znseznxaf, show_window=False, kweight=2, win=1, title=\"znse_zn_xafs.001\")\n",
      "xftf(znseznxaf, kmin= 2.500, kmax= 13.000, dk= 4.000,\n",
      "      kweight= 2.000, window='Kaiser-Bessel', rmax_out=12.000)\n",
      "xftr(znseznxaf, rmin= 1.100, rmax= 6.000,\n",
      "      dr= 0.500, window='Hanning')\n",
      "plot_chik(znseznxaf, show_window=False, kweight=2, win=1, title=\"znse_zn_xafs.001\")\n",
      "_feffit_params.s02 = param(1.0000, name='s02', vary=True)\n",
      "_feffit_params.e0 = param(0.0010, name='e0', vary=True)\n",
      "_feffit_params.delr_Se245 = param(0.0010, name='delr_Se245', vary=True, min=-0.75, max=0.75)\n",
      "_feffit_params.sigma2_Se245 = param(0.0078, name='sigma2_Se245', vary=True, min=0, max=1)\n",
      "\n",
      "_feffcache['paths']['Zn_Se245'] = feffpath('/Users/Newville/.larch/feff/Zn1_K_Stilleite_cif11535/feff0001.dat',\n",
      "                                             label='Zn_Se245',feffrun='Zn1_K_Stilleite_cif11535', degen=1)\n",
      "\n",
      "\n",
      "_feffpaths['Zn_Se245'] = use_feffpath(_feffcache['paths'], 'Zn_Se245',\n",
      "                                       s02='4.0 * s02',  e0='e0',\n",
      "                                       deltar='delr_Se245', sigma2='sigma2_Se245',\n",
      "                                       third='0', ei='0', use=True)\n",
      "\n",
      "_feffit_params.delr_Zn401 = param(0.0010, name='delr_Zn401', vary=True, min=-0.75, max=0.75)\n",
      "_feffit_params.sigma2_Zn401 = param(0.0100, name='sigma2_Zn401', vary=True, min=0, max=1)\n",
      "\n",
      "_feffcache['paths']['Zn_Zn401'] = feffpath('/Users/Newville/.larch/feff/Zn1_K_Stilleite_cif11535/feff0002.dat',\n",
      "                                             label='Zn_Zn401',feffrun='Zn1_K_Stilleite_cif11535', degen=1)\n",
      "\n",
      "\n",
      "_feffpaths['Zn_Zn401'] = use_feffpath(_feffcache['paths'], 'Zn_Zn401',\n",
      "                                       s02='12.0 * s02',  e0='e0',\n",
      "                                       deltar='delr_Zn401', sigma2='sigma2_Zn401',\n",
      "                                       third='0', ei='0', use=True)\n",
      "\n",
      "### set up feffit \n",
      "# create feffit Parameter Group to hold fit parameters\n",
      "_feffit_params = param_group(reff=-1.0)\n",
      "\n",
      "_feffit_params.s02 = param(1.0, vary=True)\n",
      "_feffit_params.e0 = param(0.001, vary=True)\n",
      "_feffit_params.delr_Se245 = param(0.001, min=-0.75, max=0.75, vary=True)\n",
      "_feffit_params.sigma2_Se245 = param(0.0078, min=0.0, max=1.0, vary=True)\n",
      "_feffit_params.delr_Zn401 = param(0.001, min=-0.75, max=0.75, vary=True)\n",
      "_feffit_params.sigma2_Zn401 = param(0.01, min=0.0, max=1.0, vary=True)\n",
      "# define Fourier transform and fitting space\n",
      "_feffit_trans = feffit_transform(kmin=2.500, kmax=13.000, dk=4.0000, kw=2,\n",
      "                      window='Kaiser-Bessel', fitspace='r', rmin=1.100, rmax=4.000)\n",
      "\n",
      "# clear existing paths\n",
      "npaths = 0\n",
      "_feffpaths = {}\n",
      "#endtry\n",
      "\n",
      "\n",
      "_feffpaths['Zn_Se245'] = use_feffpath(_feffcache['paths'], 'Zn_Se245',\n",
      "                                       s02='4.0 * s02',  e0='e0',\n",
      "                                       deltar='delr_Se245', sigma2='sigma2_Se245',\n",
      "                                       third='0', ei='0', use=True)\n",
      "\n",
      "\n",
      "_feffpaths['Zn_Zn401'] = use_feffpath(_feffcache['paths'], 'Zn_Zn401',\n",
      "                                       s02='12.0 * s02',  e0='e0',\n",
      "                                       deltar='delr_Zn401', sigma2='sigma2_Zn401',\n",
      "                                       third='0', ei='0', use=True)\n",
      "\n",
      "# sum paths using a list of paths and a group of parameters\n",
      "_feffit_dataset = feffit_dataset(data=znseznxaf, transform=_feffit_trans,\n",
      "                                 refine_bkg=False,\n",
      "                                 paths=[_feffpaths['Zn_Se245'], _feffpaths['Zn_Zn401']])\n",
      "_feffit_dataset.model = ff2chi([_feffpaths['Zn_Se245'], _feffpaths['Zn_Zn401']], paramgroup=_feffit_params)\n",
      "\n",
      "# end of build model\n",
      "_feffit_dataset\n",
      "_feffit_dataset.paths\n",
      "#### plot \n",
      "#  build arrays for plotting: refine bkg? False, znseznxaf / _feffit_dataset\n",
      "# ffts on group _feffit_dataset.model\n",
      "xftf(_feffit_dataset.model, kmin=2.500, kmax=13.000, dk=4.000, window='Kaiser-Bessel', kweight=2.000)\n",
      "xftr(_feffit_dataset.model, rmin=1.100, rmax=4.000, dr=0.100, window='hanning')\n",
      "\n",
      "# ffts on group _feffit_dataset.data\n",
      "xftf(_feffit_dataset.data, kmin=2.500, kmax=13.000, dk=4.000, window='Kaiser-Bessel', kweight=2.000)\n",
      "xftr(_feffit_dataset.data, rmin=1.100, rmax=4.000, dr=0.100, window='hanning')\n",
      "\n",
      "plot_chir(_feffit_dataset.data, label='data', win=1, rmax=8.0, title='znse_zn_xafs.001', show_window=False, new=True)\n",
      "plot_chir(_feffit_dataset.model, label='model', win=1, rmax=8.0, show_window=False, new=False)\n",
      "### set up feffit \n",
      "# create feffit Parameter Group to hold fit parameters\n",
      "_feffit_params = param_group(reff=-1.0)\n",
      "\n",
      "_feffit_params.s02 = param(1.0, vary=True)\n",
      "_feffit_params.e0 = param(0.001, vary=True)\n",
      "_feffit_params.delr_Se245 = param(0.001, min=-0.75, max=0.75, vary=True)\n",
      "_feffit_params.sigma2_Se245 = param(0.0078, min=0.0, max=1.0, vary=True)\n",
      "_feffit_params.delr_Zn401 = param(0.001, min=-0.75, max=0.75, vary=True)\n",
      "_feffit_params.sigma2_Zn401 = param(0.01, min=0.0, max=1.0, vary=True)\n",
      "# define Fourier transform and fitting space\n",
      "_feffit_trans = feffit_transform(kmin=2.500, kmax=13.000, dk=4.0000, kw=2,\n",
      "                      window='Kaiser-Bessel', fitspace='r', rmin=1.100, rmax=4.000)\n",
      "\n",
      "# clear existing paths\n",
      "npaths = 0\n",
      "_feffpaths = {}\n",
      "#endtry\n",
      "\n",
      "\n",
      "_feffpaths['Zn_Se245'] = use_feffpath(_feffcache['paths'], 'Zn_Se245',\n",
      "                                       s02='4.0 * s02',  e0='e0',\n",
      "                                       deltar='delr_Se245', sigma2='sigma2_Se245',\n",
      "                                       third='0', ei='0', use=True)\n",
      "\n",
      "\n",
      "_feffpaths['Zn_Zn401'] = use_feffpath(_feffcache['paths'], 'Zn_Zn401',\n",
      "                                       s02='12.0 * s02',  e0='e0',\n",
      "                                       deltar='delr_Zn401', sigma2='sigma2_Zn401',\n",
      "                                       third='0', ei='0', use=True)\n",
      "\n",
      "# sum paths using a list of paths and a group of parameters\n",
      "_feffit_dataset = feffit_dataset(data=znseznxaf, transform=_feffit_trans,\n",
      "                                 refine_bkg=False,\n",
      "                                 paths=[_feffpaths['Zn_Se245'], _feffpaths['Zn_Zn401']])\n",
      "_feffit_dataset.model = ff2chi([_feffpaths['Zn_Se245'], _feffpaths['Zn_Zn401']], paramgroup=_feffit_params)\n",
      "\n",
      "# end of build model\n",
      "# build feffit dataset, run feffit\n",
      "_feffit_dataset = feffit_dataset(data=znseznxaf, transform=_feffit_trans,\n",
      "                                 refine_bkg=False,\n",
      "                                 paths=_feffpaths)\n",
      "_feffit_result = feffit(_feffit_params, _feffit_dataset)\n",
      "if not hasattr(znseznxaf, 'feffit_history'): znseznxaf.feffit_history = []\n",
      "znseznxaf.feffit_history.insert(0, _feffit_result)\n",
      "\n",
      "_feffit_dataset\n",
      "_feffit_dataset.paths\n",
      "#### plot \n",
      "#  build arrays for plotting: refine bkg? False, znseznxaf / _feffit_dataset\n",
      "# ffts on group _feffit_dataset.model\n",
      "xftf(_feffit_dataset.model, kmin=2.500, kmax=13.000, dk=4.000, window='Kaiser-Bessel', kweight=2.000)\n",
      "xftr(_feffit_dataset.model, rmin=1.100, rmax=4.000, dr=0.100, window='hanning')\n",
      "\n",
      "# ffts on group _feffit_dataset.data\n",
      "xftf(_feffit_dataset.data, kmin=2.500, kmax=13.000, dk=4.000, window='Kaiser-Bessel', kweight=2.000)\n",
      "xftr(_feffit_dataset.data, rmin=1.100, rmax=4.000, dr=0.100, window='hanning')\n",
      "\n",
      "plot_chir(_feffit_dataset.data, label='data', win=1, rmax=8.0, title='znse_zn_xafs.001', show_window=False, new=True)\n",
      "plot_chir(_feffit_dataset.model, label='model', win=1, rmax=8.0, show_window=False, new=False)\n",
      "\n",
      "##Commands done##\n"
     ]
    }
   ],
   "source": [
    "# the Larch command history from the Larix Session is verbose and repetetive, but it\n",
    "# does show all the Larch commands run in that session.  \n",
    "#\n",
    "# Note: if you read in a session file into a new session and start working with\n",
    "# that data and then go on to save a new session, the history from the original session\n",
    "# will not be preserved.  This is simply because one can read in many saved Sessions\n",
    "# and it is not obvious how to merge those histories.  The command history of a Larix\n",
    "# Session can be used as part a solution for preserving data processing and provenance, \n",
    "# but it is not a complete solution.\n",
    "\n",
    "print(\"##Commands:\")\n",
    "for command in session.command_history:\n",
    "    print(command)\n",
    "print(\"##Commands done##\")\n"
   ]
  },
  {
   "cell_type": "code",
   "execution_count": 10,
   "metadata": {},
   "outputs": [
    {
     "name": "stdout",
     "output_type": "stream",
     "text": [
      "_feffcache\n",
      "_feffit_dataset\n",
      "_feffit_params\n",
      "_feffit_result\n",
      "_feffit_trans\n",
      "_feffpaths\n",
      "_xasgroups\n",
      "npaths\n",
      "znseznxaf\n"
     ]
    }
   ],
   "source": [
    "#finally, we can list the symbols\n",
    "\n",
    "for s in session.symbols:\n",
    "    print(s)\n",
    "    \n",
    "# in fact, we see that there are not that many Groups in this session.  \n",
    "# For a Larix Session, the following common symbols are of interest:\n",
    "#\n",
    "#   1. _xasgroups: a dictionary of \"Filename\": \"Groupname\" where \"Filename\" is the \n",
    "#            displayed name in the Larix list of Groups, and the \"Groupname\" is the\n",
    "#            variable name of the Group in the Larch session.\n",
    "#   2. _feffpaths: a dictionary of Feff Paths useed for the most recent run of Feffit\n",
    "#   3. _feffit_params: a Parameter Group for the most recent run of Feffit\n",
    "#   4. _feffit_trans: a Feffit Transform Group for the most recent run of Feffit\n",
    "#   5. _feffit_dataset: a Feffit Dataset for the most recent run of Feffit\n",
    "#   6. _feffcache:  Cache of Feff Paths read into the Session.\n"
   ]
  },
  {
   "cell_type": "code",
   "execution_count": 24,
   "metadata": {},
   "outputs": [
    {
     "name": "stdout",
     "output_type": "stream",
     "text": [
      "XAS GROUPS:  {'znse_zn_xafs.001': 'znseznxaf'}\n"
     ]
    },
    {
     "data": {
      "text/html": [
       "Group 0x1899de190\n",
       "<table>\n",
       "<tr><td><b>Attribute</b></td><td><b>Type</b></td>\n",
       "<td><b>Value</b></td></tr>\n",
       "<tr><td>array_labels</td><td><i>list</i></td><td>['energy', 'scaler count time', 'i0', 'i1']</td></tr>\n",
       "<tr><td>atsym</td><td><i>str</i></td><td>'Zn'</td></tr>\n",
       "<tr><td>autobk_details</td><td><i>Group</i></td><td><Group 0x1897d4c50></td></tr>\n",
       "<tr><td>bad_channels</td><td><i>list</i></td><td>[]</td></tr>\n",
       "<tr><td>bkg</td><td><i>ndarray</i></td><td>shape=(469,), type=float64 range=[-0.55812853:-0.01859558]</td></tr>\n",
       "<tr><td>callargs</td><td><i>Group</i></td><td><Group 0x189855ed0></td></tr>\n",
       "<tr><td>chi</td><td><i>ndarray</i></td><td>shape=(279,), type=float64 range=[-0.08454437: 0.16909173]</td></tr>\n",
       "<tr><td>chie</td><td><i>ndarray</i></td><td>shape=(469,), type=float64 range=[-0.08384910: 0.16898517]</td></tr>\n",
       "<tr><td>chiq</td><td><i>ndarray</i></td><td>shape=(601,), type=complex128 range=[-1.23532159-0.09311998j:0.90149128+0.09526365j]</td></tr>\n",
       "<tr><td>chiq_im</td><td><i>ndarray</i></td><td>shape=(601,), type=float64 range=[-1.04444071: 1.14873117]</td></tr>\n",
       "<tr><td>chiq_mag</td><td><i>ndarray</i></td><td>shape=(601,), type=float64 range=[ 4.2891e-06: 1.24624466]</td></tr>\n",
       "<tr><td>chiq_re</td><td><i>ndarray</i></td><td>shape=(601,), type=float64 range=[-1.23532159: 0.90149128]</td></tr>\n",
       "<tr><td>chir</td><td><i>ndarray</i></td><td>shape=(392,), type=complex128 range=[-1.28450107-0.04895470j:1.55229377-0.21239774j]</td></tr>\n",
       "<tr><td>chir_im</td><td><i>ndarray</i></td><td>shape=(392,), type=float64 range=[-1.51930390: 1.36190469]</td></tr>\n",
       "<tr><td>chir_mag</td><td><i>ndarray</i></td><td>shape=(392,), type=float64 range=[ 4.5848e-04: 1.57505356]</td></tr>\n",
       "<tr><td>chir_re</td><td><i>ndarray</i></td><td>shape=(392,), type=float64 range=[-1.28450107: 1.55229377]</td></tr>\n",
       "<tr><td>config</td><td><i>Group</i></td><td><Group 0x1896f3e90></td></tr>\n",
       "<tr><td>correct_deadtime</td><td><i>bool</i></td><td>False</td></tr>\n",
       "<tr><td>d2mude</td><td><i>ndarray</i></td><td>shape=(469,), type=float64 range=[-0.40173981: 0.31065658]</td></tr>\n",
       "<tr><td>data</td><td><i>ndarray</i></td><td>shape=(4, 469), type=float64 range=[ 1.00000000: 176438.200]</td></tr>\n",
       "<tr><td>datatype</td><td><i>str</i></td><td>'xas'</td></tr>\n",
       "<tr><td>det</td><td><i>ndarray</i></td><td>shape=(2, 469), type=float64 range=[ 98237.7000: 176438.200]</td></tr>\n",
       "<tr><td>det_addr</td><td><i>list</i></td><td>['13BMD:scaler1_calc2.VAL', '13BMD:scaler1_calc3.VAL']</td></tr>\n",
       "<tr><td>det_corr</td><td><i>ndarray</i></td><td>shape=(2, 469), type=float64 range=[ 98237.7000: 176438.200]</td></tr>\n",
       "<tr><td>det_desc</td><td><i>list</i></td><td>['i0', 'i1']</td></tr>\n",
       "<tr><td>det_mcas</td><td><i>list</i></td><td>[]</td></tr>\n",
       "<tr><td>dimension</td><td><i>int</i></td><td>1</td></tr>\n",
       "<tr><td>dmude</td><td><i>ndarray</i></td><td>shape=(469,), type=float64 range=[-0.25781869: 0.43953725]</td></tr>\n",
       "<tr><td>dt_factor</td><td><i>NoneType</i></td><td>None</td></tr>\n",
       "<tr><td>e0</td><td><i>float</i></td><td>9663.75</td></tr>\n",
       "<tr><td>edge</td><td><i>str</i></td><td>'K'</td></tr>\n",
       "<tr><td>edge_step</td><td><i>float</i></td><td>0.3767152894467243</td></tr>\n",
       "<tr><td>edge_step_poly</td><td><i>float</i></td><td>0.3767152894467243</td></tr>\n",
       "<tr><td>ek0</td><td><i>float</i></td><td>9668.0</td></tr>\n",
       "<tr><td>energy</td><td><i>ndarray</i></td><td>shape=(469,), type=float64 range=[ 9509.00000: 10405.7600]</td></tr>\n",
       "<tr><td>energy_orig</td><td><i>ndarray</i></td><td>shape=(469,), type=float64 range=[ 9509.00000: 10405.7600]</td></tr>\n",
       "<tr><td>energy_ref</td><td><i>str</i></td><td>'znseznxaf'</td></tr>\n",
       "<tr><td>energy_shift</td><td><i>float</i></td><td>0.0</td></tr>\n",
       "<tr><td>energy_units</td><td><i>str</i></td><td>'eV'</td></tr>\n",
       "<tr><td>env_addr</td><td><i>list</i></td><td>length=22: [S:SRcurrentAI.VAL, 13BMA:m17.RBV, ... 13BMD:m33.VAL, 13BMD:m34.VAL]</td></tr>\n",
       "<tr><td>env_desc</td><td><i>list</i></td><td>length=22: [Storage Ring Current, FOE Mono angle readback, ... Sample Z (focus), Sample Y (height)]</td></tr>\n",
       "<tr><td>env_val</td><td><i>list</i></td><td>length=22: [101.743, 12.0005, ... 0.652, 35.616]</td></tr>\n",
       "<tr><td>feffit_history</td><td><i>list</i></td><td>[<Group 0x1899f6c50>]</td></tr>\n",
       "<tr><td>filename</td><td><i>str</i></td><td>'znse_zn_xafs.001'</td></tr>\n",
       "<tr><td>flat</td><td><i>ndarray</i></td><td>shape=(469,), type=float64 range=[-0.00234636: 1.46194925]</td></tr>\n",
       "<tr><td>flat_alt</td><td><i>ndarray</i></td><td>shape=(469,), type=float64 range=[-0.00234636: 1.46194925]</td></tr>\n",
       "<tr><td>flat_coefs</td><td><i>tuple</i></td><td>(23.845848309978958, -0.00447498435231545, 2.1843564195782076e-07)</td></tr>\n",
       "<tr><td>groupname</td><td><i>str</i></td><td>'znseznxaf'</td></tr>\n",
       "<tr><td>has_fullxrf</td><td><i>bool</i></td><td>False</td></tr>\n",
       "<tr><td>i0</td><td><i>ndarray</i></td><td>shape=(469,), type=float64 range=[ 98237.7000: 101896.700]</td></tr>\n",
       "<tr><td>is_frozen</td><td><i>bool</i></td><td>False</td></tr>\n",
       "<tr><td>journal</td><td><i>Journal</i></td><td>[('source', '/Users/Newville/Codes/xraylarch/examples/xafsdata/znse_zn_xafs.001', '2024-03-17T21:50:06.238761'), ('xdat', 'energy', '2024-03-17T21:50:06.238766'), ('ydat', '-log(i1/i0)', '2024-03-17T21:50:06.238768'), ('source_desc', 'znse_zn_xafs.001: -log(i1/i0)', '2024-03-17T21:50:06.238769'), ('yerr', '1.0', '2024-03-17T21:50:06.238771'), ('find_e0_callargs', {}, '2024-03-17T21:50:06.257215'), ('pre_edge_callargs', {'e0': None, 'step': None, 'nnorm': None, 'nvict': 0, 'pre1': -200.0, 'pre2': -25.0, 'norm1': 100.0, 'norm2': -1.0, 'make_flat': True}, '2024-03-17T21:50:06.300136'), ('normalization_method', 'polynomial', '2024-03-17T21:50:06.311384'), ('pre_edge_callargs', {'e0': None, 'step': None, 'nnorm': 2, 'nvict': 0, 'pre1': -154.75, 'pre2': -25.0, 'norm1': 100.0, 'norm2': 742.01, 'make_flat': True}, '2024-03-17T21:50:06.320295'), ('autobk_callargs', {'rbkg': 1.0, 'nknots': None, 'e0': None, 'ek0': 9663.75, 'edge_step': None, 'kmin': 0.0, 'kmax': 14.0, 'kweight': 1.0, 'dk': 0.1, 'win': 'hanning', 'k_std': None, 'chi_std': None, 'nfft': 2048, 'kstep': 0.05, 'pre_edge_kws': None, 'nclamp': 3, 'clamp_lo': 1.0, 'clamp_hi': 20.0, 'calc_uncertainties': False, 'err_sigma': 1}, '2024-03-17T21:50:08.476183'), ('xftf_callargs', {'kmin': 2.0, 'kmax': 13.5, 'kweight': 2.0, 'dk': 4.0, 'dk2': None, 'with_phase': False, 'window': 'Kaiser-Bessel', 'rmax_out': 12.0, 'nfft': 2048, 'kstep': None}, '2024-03-17T21:50:08.484894'), ('xftr_callargs', {'rmin': 1.0, 'rmax': 6.0, 'with_phase': False, 'dr': 0.5, 'dr2': None, 'rw': 0, 'window': 'Hanning', 'qmax_out': None, 'nfft': 2048, 'kstep': 0.05}, '2024-03-17T21:50:08.492092'), ('autobk_callargs', {'rbkg': 1.1, 'nknots': None, 'e0': None, 'ek0': 9663.75, 'edge_step': None, 'kmin': 0.0, 'kmax': 14.0, 'kweight': 1.0, 'dk': 0.1, 'win': 'hanning', 'k_std': None, 'chi_std': None, 'nfft': 2048, 'kstep': 0.05, 'pre_edge_kws': None, 'nclamp': 3, 'clamp_lo': 1.0, 'clamp_hi': 20.0, 'calc_uncertainties': False, 'err_sigma': 1}, '2024-03-17T21:50:11.223168'), ('xftf_callargs', {'kmin': 2.0, 'kmax': 13.5, 'kweight': 2.0, 'dk': 4.0, 'dk2': None, 'with_phase': False, 'window': 'Kaiser-Bessel', 'rmax_out': 12.0, 'nfft': 2048, 'kstep': None}, '2024-03-17T21:50:11.233849'), ('xftr_callargs', {'rmin': 1.1, 'rmax': 6.0, 'with_phase': False, 'dr': 0.5, 'dr2': None, 'rw': 0, 'window': 'Hanning', 'qmax_out': None, 'nfft': 2048, 'kstep': 0.05}, '2024-03-17T21:50:11.241473'), ('autobk_callargs', {'rbkg': 1.1, 'nknots': None, 'e0': None, 'ek0': 9668.0, 'edge_step': None, 'kmin': 0.0, 'kmax': 14.0, 'kweight': 1.0, 'dk': 0.1, 'win': 'hanning', 'k_std': None, 'chi_std': None, 'nfft': 2048, 'kstep': 0.05, 'pre_edge_kws': None, 'nclamp': 3, 'clamp_lo': 1.0, 'clamp_hi': 20.0, 'calc_uncertainties': False, 'err_sigma': 1}, '2024-03-17T21:50:15.056945'), ('xftf_callargs', {'kmin': 2.0, 'kmax': 13.5, 'kweight': 2.0, 'dk': 4.0, 'dk2': None, 'with_phase': False, 'window': 'Kaiser-Bessel', 'rmax_out': 12.0, 'nfft': 2048, 'kstep': None}, '2024-03-17T21:50:15.068225'), ('xftr_callargs', {'rmin': 1.1, 'rmax': 6.0, 'with_phase': False, 'dr': 0.5, 'dr2': None, 'rw': 0, 'window': 'Hanning', 'qmax_out': None, 'nfft': 2048, 'kstep': 0.05}, '2024-03-17T21:50:15.076520'), ('autobk_callargs', {'rbkg': 1.1, 'nknots': None, 'e0': None, 'ek0': 9668.0, 'edge_step': None, 'kmin': 0.0, 'kmax': 14.0, 'kweight': 0.0, 'dk': 0.1, 'win': 'hanning', 'k_std': None, 'chi_std': None, 'nfft': 2048, 'kstep': 0.05, 'pre_edge_kws': None, 'nclamp': 3, 'clamp_lo': 1.0, 'clamp_hi': 20.0, 'calc_uncertainties': False, 'err_sigma': 1}, '2024-03-17T21:50:16.905976'), ('xftf_callargs', {'kmin': 2.0, 'kmax': 13.5, 'kweight': 2.0, 'dk': 4.0, 'dk2': None, 'with_phase': False, 'window': 'Kaiser-Bessel', 'rmax_out': 12.0, 'nfft': 2048, 'kstep': None}, '2024-03-17T21:50:16.917172'), ('xftr_callargs', {'rmin': 1.1, 'rmax': 6.0, 'with_phase': False, 'dr': 0.5, 'dr2': None, 'rw': 0, 'window': 'Hanning', 'qmax_out': None, 'nfft': 2048, 'kstep': 0.05}, '2024-03-17T21:50:16.925050'), ('autobk_callargs', {'rbkg': 1.1, 'nknots': None, 'e0': None, 'ek0': 9668.0, 'edge_step': None, 'kmin': 0.0, 'kmax': 14.0, 'kweight': 1.0, 'dk': 0.1, 'win': 'hanning', 'k_std': None, 'chi_std': None, 'nfft': 2048, 'kstep': 0.05, 'pre_edge_kws': None, 'nclamp': 3, 'clamp_lo': 1.0, 'clamp_hi': 20.0, 'calc_uncertainties': False, 'err_sigma': 1}, '2024-03-17T21:50:18.291555'), ('xftf_callargs', {'kmin': 2.0, 'kmax': 13.5, 'kweight': 2.0, 'dk': 4.0, 'dk2': None, 'with_phase': False, 'window': 'Kaiser-Bessel', 'rmax_out': 12.0, 'nfft': 2048, 'kstep': None}, '2024-03-17T21:50:18.300847'), ('xftr_callargs', {'rmin': 1.1, 'rmax': 6.0, 'with_phase': False, 'dr': 0.5, 'dr2': None, 'rw': 0, 'window': 'Hanning', 'qmax_out': None, 'nfft': 2048, 'kstep': 0.05}, '2024-03-17T21:50:18.309180'), ('autobk_callargs', {'rbkg': 1.1, 'nknots': None, 'e0': None, 'ek0': 9668.0, 'edge_step': None, 'kmin': 0.0, 'kmax': 14.0, 'kweight': 2.0, 'dk': 0.1, 'win': 'hanning', 'k_std': None, 'chi_std': None, 'nfft': 2048, 'kstep': 0.05, 'pre_edge_kws': None, 'nclamp': 3, 'clamp_lo': 1.0, 'clamp_hi': 20.0, 'calc_uncertainties': False, 'err_sigma': 1}, '2024-03-17T21:50:21.722366'), ('xftf_callargs', {'kmin': 2.5, 'kmax': 13.5, 'kweight': 2.0, 'dk': 4.0, 'dk2': None, 'with_phase': False, 'window': 'Kaiser-Bessel', 'rmax_out': 12.0, 'nfft': 2048, 'kstep': None}, '2024-03-17T21:50:21.732999'), ('xftr_callargs', {'rmin': 1.1, 'rmax': 6.0, 'with_phase': False, 'dr': 0.5, 'dr2': None, 'rw': 0, 'window': 'Hanning', 'qmax_out': None, 'nfft': 2048, 'kstep': 0.05}, '2024-03-17T21:50:21.740760'), ('xftf_callargs', {'kmin': 2.5, 'kmax': 13.0, 'kweight': 2.0, 'dk': 4.0, 'dk2': None, 'with_phase': False, 'window': 'Kaiser-Bessel', 'rmax_out': 12.0, 'nfft': 2048, 'kstep': None}, '2024-03-17T21:50:24.075749'), ('xftr_callargs', {'rmin': 1.1, 'rmax': 6.0, 'with_phase': False, 'dr': 0.5, 'dr2': None, 'rw': 0, 'window': 'Hanning', 'qmax_out': None, 'nfft': 2048, 'kstep': 0.05}, '2024-03-17T21:50:24.087889'), ('xftf_callargs', {'kmin': 2.5, 'kmax': 13.0, 'kweight': 2.0, 'dk': 4.0, 'dk2': None, 'with_phase': False, 'window': 'Kaiser-Bessel', 'rmax_out': 10, 'nfft': 2048, 'kstep': None}, '2024-03-17T21:50:40.220059'), ('xftr_callargs', {'rmin': 1.1, 'rmax': 4.0, 'with_phase': False, 'dr': 0.1, 'dr2': None, 'rw': 0, 'window': 'hanning', 'qmax_out': None, 'nfft': 2048, 'kstep': 0.05}, '2024-03-17T21:50:40.220564'), ('xftf_callargs', {'kmin': 2.5, 'kmax': 13.0, 'kweight': 2.0, 'dk': 4.0, 'dk2': None, 'with_phase': False, 'window': 'Kaiser-Bessel', 'rmax_out': 10, 'nfft': 2048, 'kstep': None}, '2024-03-17T21:50:43.443607'), ('xftr_callargs', {'rmin': 1.1, 'rmax': 4.0, 'with_phase': False, 'dr': 0.1, 'dr2': None, 'rw': 0, 'window': 'hanning', 'qmax_out': None, 'nfft': 2048, 'kstep': 0.05}, '2024-03-17T21:50:43.444082')]</td></tr>\n",
       "<tr><td>k</td><td><i>ndarray</i></td><td>shape=(279,), type=float64 range=[ 0.00000000: 13.9000000]</td></tr>\n",
       "<tr><td>kwin</td><td><i>ndarray</i></td><td>shape=(279,), type=float64 range=[ 0.00000000: 1.00000000]</td></tr>\n",
       "<tr><td>mu</td><td><i>ndarray</i></td><td>shape=(469,), type=float64 range=[-0.55864552:-0.01859558]</td></tr>\n",
       "<tr><td>norm</td><td><i>ndarray</i></td><td>shape=(469,), type=float64 range=[-0.00234636: 1.46106584]</td></tr>\n",
       "<tr><td>norm_poly</td><td><i>ndarray</i></td><td>shape=(469,), type=float64 range=[-0.00234636: 1.46106584]</td></tr>\n",
       "<tr><td>path</td><td><i>str</i></td><td>'/Users/Newville/Codes/xraylarch/examples/xafsdata/znse_zn_xafs.001'</td></tr>\n",
       "<tr><td>plot_extras</td><td><i>list</i></td><td>[('marker', 9663.75, 0.7067924153689145, {'marker': 'o', 'markersize': 4, 'label': '_nolegend_', 'markerfacecolor': '#888', 'markeredgecolor': '#A00'}), ('marker', 9509.0, 0.0017751399756847192, {'marker': 'o', 'markersize': 4, 'label': '_nolegend_', 'markerfacecolor': '#888', 'markeredgecolor': '#A00'}), ('marker', 9638.75, 0.0033790210320638462, {'marker': 'o', 'markersize': 4, 'label': '_nolegend_', 'markerfacecolor': '#888', 'markeredgecolor': '#A00'}), ('marker', 9763.75, 0.9649004042788982, {'marker': 'o', 'markersize': 4, 'label': '_nolegend_', 'markerfacecolor': '#888', 'markeredgecolor': '#A00'}), ('marker', 10405.76, 0.934535311553658, {'marker': 'o', 'markersize': 4, 'label': '_nolegend_', 'markerfacecolor': '#888', 'markeredgecolor': '#A00'})]</td></tr>\n",
       "<tr><td>plot_xlabel</td><td><i>str</i></td><td>'$E\\\\rm\\\\,(eV)$'</td></tr>\n",
       "<tr><td>plot_y2label</td><td><i>NoneType</i></td><td>None</td></tr>\n",
       "<tr><td>plot_yarrays</td><td><i>list</i></td><td>[('norm', {'style': 'solid', 'marker': 'None'}, 'normalized $\\\\mu(E)$')]</td></tr>\n",
       "<tr><td>plot_ylabel</td><td><i>str</i></td><td>'normalized $\\\\mu(E)$'</td></tr>\n",
       "<tr><td>pos</td><td><i>ndarray</i></td><td>shape=(2, 469), type=float64 range=[ 1.00000000: 10405.7600]</td></tr>\n",
       "<tr><td>pos_addr</td><td><i>list</i></td><td>['13BMA:E:Energy.VAL', '13BMD:scaler1.TP']</td></tr>\n",
       "<tr><td>pos_desc</td><td><i>list</i></td><td>['energy', 'scaler count time']</td></tr>\n",
       "<tr><td>post_edge</td><td><i>ndarray</i></td><td>shape=(469,), type=float64 range=[-0.55944550:-0.10233661]</td></tr>\n",
       "<tr><td>pre_edge</td><td><i>ndarray</i></td><td>shape=(469,), type=float64 range=[-0.91069926:-0.49578144]</td></tr>\n",
       "<tr><td>pre_edge_details</td><td><i>Group</i></td><td><Group 0x1899dfe50></td></tr>\n",
       "<tr><td>progress</td><td><i>NoneType</i></td><td>None</td></tr>\n",
       "<tr><td>q</td><td><i>ndarray</i></td><td>shape=(601,), type=float64 range=[ 0.00000000: 30.0000000]</td></tr>\n",
       "<tr><td>r</td><td><i>ndarray</i></td><td>shape=(392,), type=float64 range=[ 0.00000000: 11.9957298]</td></tr>\n",
       "<tr><td>rbkg</td><td><i>float</i></td><td>1.1</td></tr>\n",
       "<tr><td>roi_hlim</td><td><i>list</i></td><td>[]</td></tr>\n",
       "<tr><td>roi_llim</td><td><i>list</i></td><td>[]</td></tr>\n",
       "<tr><td>roi_names</td><td><i>list</i></td><td>[]</td></tr>\n",
       "<tr><td>rwin</td><td><i>ndarray</i></td><td>shape=(392,), type=float64 range=[ 0.00000000: 1.00000000]</td></tr>\n",
       "<tr><td>scan_prefix</td><td><i>str</i></td><td>'13BMD:'</td></tr>\n",
       "<tr><td>scan_regions</td><td><i>list</i></td><td>['E0 =       9659.00', 'Start       Stop       Step       Npts       Time   Kspace?', '-150.00    -10.000     5.0000     29.000     1.0000   0', '-10.000     30.000    0.25000     161.00     1.0000   0', '2.8061     14.000   0.039978     281.00     1.0000   1']</td></tr>\n",
       "<tr><td>start_time</td><td><i>str</i></td><td>': Thu Apr 10 16:50:32 2008'</td></tr>\n",
       "<tr><td>status</td><td><i>NoneType</i></td><td>None</td></tr>\n",
       "<tr><td>stop_time</td><td><i>str</i></td><td>': Thu Apr 10 17:00:25 2008'</td></tr>\n",
       "<tr><td>sums</td><td><i>ndarray</i></td><td>shape=(2, 469), type=float64 range=[ 98237.7000: 176438.200]</td></tr>\n",
       "<tr><td>sums_corr</td><td><i>ndarray</i></td><td>shape=(2, 469), type=float64 range=[ 98237.7000: 176438.200]</td></tr>\n",
       "<tr><td>sums_list</td><td><i>list</i></td><td>[[0], [1]]</td></tr>\n",
       "<tr><td>sums_names</td><td><i>list</i></td><td>['i0', 'i1']</td></tr>\n",
       "<tr><td>user_titles</td><td><i>list</i></td><td>[]</td></tr>\n",
       "<tr><td>x</td><td><i>ndarray</i></td><td>shape=(469,), type=float64 range=[ 9509.00000: 10405.7600]</td></tr>\n",
       "<tr><td>xaddr</td><td><i>str</i></td><td>'13BMA:E:Energy.VAL'</td></tr>\n",
       "<tr><td>xdat</td><td><i>ndarray</i></td><td>shape=(469,), type=float64 range=[ 9509.00000: 10405.7600]</td></tr>\n",
       "<tr><td>xdesc</td><td><i>str</i></td><td>'Mono Energy drive val'</td></tr>\n",
       "<tr><td>xrf_data</td><td><i>list</i></td><td>[]</td></tr>\n",
       "<tr><td>xrf_dict</td><td><i>dict</i></td><td>{}</td></tr>\n",
       "<tr><td>xrf_energies</td><td><i>list</i></td><td>[]</td></tr>\n",
       "<tr><td>xrf_header</td><td><i>str</i></td><td>''</td></tr>\n",
       "<tr><td>xrf_merge</td><td><i>NoneType</i></td><td>None</td></tr>\n",
       "<tr><td>xrf_merge_corr</td><td><i>NoneType</i></td><td>None</td></tr>\n",
       "<tr><td>xrf_sum</td><td><i>list</i></td><td>[]</td></tr>\n",
       "<tr><td>y</td><td><i>list</i></td><td>[]</td></tr>\n",
       "<tr><td>yaddr</td><td><i>str</i></td><td>''</td></tr>\n",
       "<tr><td>ydat</td><td><i>ndarray</i></td><td>shape=(469,), type=float64 range=[-0.00234636: 1.46106584]</td></tr>\n",
       "<tr><td>ydesc</td><td><i>str</i></td><td>''</td></tr>\n",
       "<tr><td>yerr</td><td><i>float</i></td><td>1.0</td></tr>\n",
       "</table>"
      ],
      "text/plain": [
       "<Group 0x1899de190>"
      ]
     },
     "execution_count": 24,
     "metadata": {},
     "output_type": "execute_result"
    }
   ],
   "source": [
    "# here, we can examine _xasgroups, then show the one dataset in the Session\n",
    "\n",
    "print('XAS GROUPS: ', session.symbols['_xasgroups'])\n",
    "session.symbols['znseznxaf']"
   ]
  },
  {
   "cell_type": "code",
   "execution_count": 32,
   "metadata": {
    "scrolled": true
   },
   "outputs": [
    {
     "data": {
      "application/vnd.plotly.v1+json": {
       "config": {
        "plotlyServerURL": "https://plot.ly"
       },
       "data": [
        {
         "line": {
          "color": "#1f77b4",
          "width": 3
         },
         "name": "chir (mag)",
         "type": "scatter",
         "uid": "da3f9dfc-8da5-409d-8f10-cff4e1a227f4",
         "x": [
          0,
          0.030679615757712823,
          0.06135923151542565,
          0.09203884727313846,
          0.1227184630308513,
          0.15339807878856412,
          0.18407769454627693,
          0.21475731030398976,
          0.2454369260617026,
          0.2761165418194154,
          0.30679615757712825,
          0.3374757733348411,
          0.36815538909255385,
          0.3988350048502667,
          0.4295146206079795,
          0.46019423636569234,
          0.4908738521234052,
          0.521553467881118,
          0.5522330836388308,
          0.5829126993965437,
          0.6135923151542565,
          0.6442719309119693,
          0.6749515466696822,
          0.705631162427395,
          0.7363107781851077,
          0.7669903939428205,
          0.7976700097005334,
          0.8283496254582462,
          0.859029241215959,
          0.8897088569736719,
          0.9203884727313847,
          0.9510680884890975,
          0.9817477042468103,
          1.012427320004523,
          1.043106935762236,
          1.0737865515199487,
          1.1044661672776617,
          1.1351457830353744,
          1.1658253987930873,
          1.1965050145508,
          1.227184630308513,
          1.2578642460662257,
          1.2885438618239387,
          1.3192234775816514,
          1.3499030933393643,
          1.380582709097077,
          1.41126232485479,
          1.4419419406125027,
          1.4726215563702154,
          1.5033011721279284,
          1.533980787885641,
          1.564660403643354,
          1.5953400194010667,
          1.6260196351587797,
          1.6566992509164924,
          1.6873788666742053,
          1.718058482431918,
          1.748738098189631,
          1.7794177139473437,
          1.8100973297050567,
          1.8407769454627694,
          1.8714565612204823,
          1.902136176978195,
          1.932815792735908,
          1.9634954084936207,
          1.9941750242513334,
          2.024854640009046,
          2.055534255766759,
          2.086213871524472,
          2.116893487282185,
          2.1475731030398975,
          2.1782527187976104,
          2.2089323345553233,
          2.2396119503130363,
          2.270291566070749,
          2.3009711818284617,
          2.3316507975861747,
          2.3623304133438876,
          2.3930100291016,
          2.423689644859313,
          2.454369260617026,
          2.4850488763747385,
          2.5157284921324514,
          2.5464081078901644,
          2.5770877236478773,
          2.60776733940559,
          2.6384469551633027,
          2.6691265709210157,
          2.6998061866787286,
          2.730485802436441,
          2.761165418194154,
          2.791845033951867,
          2.82252464970958,
          2.8532042654672924,
          2.8838838812250054,
          2.9145634969827183,
          2.945243112740431,
          2.9759227284981438,
          3.0066023442558567,
          3.0372819600135696,
          3.067961575771282,
          3.098641191528995,
          3.129320807286708,
          3.160000423044421,
          3.1906800388021335,
          3.2213596545598464,
          3.2520392703175593,
          3.2827188860752723,
          3.313398501832985,
          3.3440781175906977,
          3.3747577333484107,
          3.4054373491061236,
          3.436116964863836,
          3.466796580621549,
          3.497476196379262,
          3.5281558121369745,
          3.5588354278946874,
          3.5895150436524004,
          3.6201946594101133,
          3.650874275167826,
          3.6815538909255388,
          3.7122335066832517,
          3.7429131224409646,
          3.773592738198677,
          3.80427235395639,
          3.834951969714103,
          3.865631585471816,
          3.8963112012295285,
          3.9269908169872414,
          3.9576704327449543,
          3.988350048502667,
          4.01902966426038,
          4.049709280018092,
          4.080388895775806,
          4.111068511533518,
          4.1417481272912315,
          4.172427743048944,
          4.2031073588066565,
          4.23378697456437,
          4.264466590322082,
          4.295146206079795,
          4.325825821837508,
          4.356505437595221,
          4.387185053352934,
          4.417864669110647,
          4.448544284868359,
          4.479223900626073,
          4.509903516383785,
          4.540583132141498,
          4.571262747899211,
          4.601942363656923,
          4.632621979414636,
          4.663301595172349,
          4.693981210930062,
          4.724660826687775,
          4.755340442445488,
          4.7860200582032,
          4.816699673960914,
          4.847379289718626,
          4.878058905476339,
          4.908738521234052,
          4.9394181369917645,
          4.970097752749477,
          5.00077736850719,
          5.031456984264903,
          5.062136600022616,
          5.092816215780329,
          5.123495831538041,
          5.154175447295755,
          5.184855063053467,
          5.21553467881118,
          5.246214294568893,
          5.2768939103266055,
          5.307573526084319,
          5.338253141842031,
          5.368932757599744,
          5.399612373357457,
          5.43029198911517,
          5.460971604872882,
          5.491651220630596,
          5.522330836388308,
          5.553010452146021,
          5.583690067903734,
          5.6143696836614465,
          5.64504929941916,
          5.675728915176872,
          5.706408530934585,
          5.737088146692298,
          5.767767762450011,
          5.798447378207723,
          5.829126993965437,
          5.859806609723149,
          5.890486225480862,
          5.921165841238575,
          5.9518454569962875,
          5.982525072754001,
          6.013204688511713,
          6.043884304269426,
          6.074563920027139,
          6.105243535784852,
          6.135923151542564,
          6.166602767300278,
          6.19728238305799,
          6.227961998815704,
          6.258641614573416,
          6.2893212303311286,
          6.320000846088842,
          6.350680461846554,
          6.381360077604267,
          6.41203969336198,
          6.442719309119693,
          6.473398924877405,
          6.504078540635119,
          6.534758156392831,
          6.565437772150545,
          6.596117387908257,
          6.62679700366597,
          6.657476619423683,
          6.6881562351813955,
          6.718835850939108,
          6.749515466696821,
          6.780195082454534,
          6.810874698212247,
          6.84155431396996,
          6.872233929727672,
          6.902913545485386,
          6.933593161243098,
          6.964272777000811,
          6.994952392758524,
          7.0256320085162365,
          7.056311624273949,
          7.086991240031662,
          7.117670855789375,
          7.148350471547088,
          7.179030087304801,
          7.209709703062513,
          7.240389318820227,
          7.271068934577939,
          7.301748550335652,
          7.332428166093365,
          7.3631077818510775,
          7.39378739760879,
          7.424467013366503,
          7.455146629124216,
          7.485826244881929,
          7.516505860639642,
          7.547185476397354,
          7.577865092155068,
          7.60854470791278,
          7.639224323670493,
          7.669903939428206,
          7.7005835551859185,
          7.731263170943632,
          7.761942786701344,
          7.792622402459057,
          7.82330201821677,
          7.853981633974483,
          7.884661249732195,
          7.915340865489909,
          7.946020481247621,
          7.976700097005334,
          8.007379712763047,
          8.03805932852076,
          8.068738944278472,
          8.099418560036185,
          8.130098175793899,
          8.160777791551611,
          8.191457407309324,
          8.222137023067036,
          8.252816638824749,
          8.283496254582463,
          8.314175870340176,
          8.344855486097888,
          8.3755351018556,
          8.406214717613313,
          8.436894333371026,
          8.46757394912874,
          8.498253564886452,
          8.528933180644165,
          8.559612796401877,
          8.59029241215959,
          8.620972027917304,
          8.651651643675017,
          8.682331259432729,
          8.713010875190442,
          8.743690490948154,
          8.774370106705868,
          8.80504972246358,
          8.835729338221293,
          8.866408953979006,
          8.897088569736718,
          8.92776818549443,
          8.958447801252145,
          8.989127417009858,
          9.01980703276757,
          9.050486648525283,
          9.081166264282995,
          9.11184588004071,
          9.142525495798422,
          9.173205111556134,
          9.203884727313847,
          9.23456434307156,
          9.265243958829272,
          9.295923574586986,
          9.326603190344699,
          9.357282806102411,
          9.387962421860124,
          9.418642037617836,
          9.44932165337555,
          9.480001269133263,
          9.510680884890975,
          9.541360500648688,
          9.5720401164064,
          9.602719732164113,
          9.633399347921827,
          9.66407896367954,
          9.694758579437252,
          9.725438195194965,
          9.756117810952677,
          9.786797426710391,
          9.817477042468104,
          9.848156658225816,
          9.878836273983529,
          9.909515889741241,
          9.940195505498954,
          9.970875121256668,
          10.00155473701438,
          10.032234352772093,
          10.062913968529806,
          10.093593584287518,
          10.124273200045232,
          10.154952815802945,
          10.185632431560657,
          10.21631204731837,
          10.246991663076082,
          10.277671278833797,
          10.30835089459151,
          10.339030510349222,
          10.369710126106934,
          10.400389741864647,
          10.43106935762236,
          10.461748973380073,
          10.492428589137786,
          10.523108204895498,
          10.553787820653211,
          10.584467436410923,
          10.615147052168638,
          10.64582666792635,
          10.676506283684063,
          10.707185899441775,
          10.737865515199488,
          10.7685451309572,
          10.799224746714915,
          10.829904362472627,
          10.86058397823034,
          10.891263593988052,
          10.921943209745764,
          10.952622825503479,
          10.983302441261191,
          11.013982057018904,
          11.044661672776616,
          11.075341288534329,
          11.106020904292041,
          11.136700520049756,
          11.167380135807468,
          11.19805975156518,
          11.228739367322893,
          11.259418983080606,
          11.29009859883832,
          11.320778214596032,
          11.351457830353745,
          11.382137446111457,
          11.41281706186917,
          11.443496677626882,
          11.474176293384597,
          11.504855909142309,
          11.535535524900022,
          11.566215140657734,
          11.596894756415447,
          11.62757437217316,
          11.658253987930873,
          11.688933603688586,
          11.719613219446298,
          11.75029283520401,
          11.780972450961723,
          11.811652066719438,
          11.84233168247715,
          11.873011298234863,
          11.903690913992575,
          11.934370529750288,
          11.965050145508002,
          11.995729761265714
         ],
         "y": [
          0.0012560045813329907,
          0.0012823895687430473,
          0.0013251274967074347,
          0.0013109155447339354,
          0.0011847126778196776,
          0.0009381696300938791,
          0.0006353412558853597,
          0.0005037587262966425,
          0.0007280088139340824,
          0.0010268980868513055,
          0.001212093883803272,
          0.0012159442598706329,
          0.0010378412698383082,
          0.0007676846170252995,
          0.0006818832993674706,
          0.0009726633908624973,
          0.00135495110985566,
          0.0016016232330412642,
          0.0016020390332915203,
          0.0013171775535458991,
          0.0007962157354360791,
          0.00045847643539777104,
          0.001048045405774971,
          0.0017230396080332262,
          0.002135472257423206,
          0.002205355374735768,
          0.0023168881829955437,
          0.0035422640258568933,
          0.006263267693444959,
          0.010172371297835076,
          0.014979472956729259,
          0.020382266037489116,
          0.026031052957460027,
          0.03154897475814762,
          0.03658173877607266,
          0.04086881723312306,
          0.044332747969445266,
          0.04717750247992839,
          0.049963188888920554,
          0.05357668580801045,
          0.058998200888988404,
          0.06690617707600352,
          0.07740164052134134,
          0.09006058020245297,
          0.10418931158380981,
          0.11907478580055235,
          0.13416492634426194,
          0.14920373362770167,
          0.16434957618355345,
          0.1802825406877738,
          0.19827857901517695,
          0.22019749446314785,
          0.24832107622134617,
          0.2850281792205354,
          0.3323980974496848,
          0.39188858808399846,
          0.4641653175666978,
          0.5490500246978353,
          0.6455203248670262,
          0.7517283057843924,
          0.8650431153978467,
          0.9821357472547854,
          1.0991186433781888,
          1.2117408409003914,
          1.3156280103569415,
          1.4065482868743688,
          1.4806798768699037,
          1.5348550772428482,
          1.5667573993958255,
          1.5750535565806016,
          1.5594494887442816,
          1.5206684195844264,
          1.460357986174896,
          1.38094144758418,
          1.2854336053584512,
          1.1772443625954803,
          1.0599913351544914,
          0.9373378786343706,
          0.8128654355474464,
          0.6899811268987336,
          0.571855317170244,
          0.4613816866927823,
          0.36115574496012354,
          0.2734767445354864,
          0.20038555371754246,
          0.1437103208836837,
          0.10480091341011631,
          0.08295615483041067,
          0.07305359845680898,
          0.06752096895636621,
          0.06124891438201802,
          0.052632609083810816,
          0.042176815204314454,
          0.031317736443227905,
          0.02181419536384356,
          0.015451417425076509,
          0.013297941155165544,
          0.014504771204752234,
          0.018077120852002054,
          0.02422740686364241,
          0.03304703004443632,
          0.044020675514769896,
          0.05644048026886422,
          0.06976133809495103,
          0.0837530771282826,
          0.09850214866446896,
          0.1142870754764756,
          0.1313708173336006,
          0.1497943458578711,
          0.16925837049678996,
          0.18912863316296544,
          0.2085380634956586,
          0.2265312033930631,
          0.24220391120219265,
          0.2548114469818967,
          0.26383471098464123,
          0.26900449973961077,
          0.2702892677492085,
          0.267855179648407,
          0.26200923855640806,
          0.25313726847434,
          0.24164847168326956,
          0.22793703683503547,
          0.212368799755389,
          0.1952975939395945,
          0.17711263338195934,
          0.15831647856662565,
          0.1396333285062237,
          0.12214363795218264,
          0.10740452943127153,
          0.09737739720955162,
          0.09379318288326993,
          0.09700885697538765,
          0.10561623048832353,
          0.11743153571160099,
          0.13055891016559218,
          0.1437203446737969,
          0.15615355590968447,
          0.16741694858489503,
          0.17721691573479725,
          0.18528253443625298,
          0.19129541689008514,
          0.19487636678280562,
          0.19562101533328094,
          0.19316717388925594,
          0.18727229796591272,
          0.17788145349496953,
          0.16517246675885605,
          0.14957275721956426,
          0.1317499688523575,
          0.11258566228796286,
          0.09314894667976639,
          0.07469567476548748,
          0.05871718941313193,
          0.046963142632173514,
          0.04093968638283363,
          0.04041023849781581,
          0.04302019103773365,
          0.04628782369887363,
          0.04879935342516375,
          0.050031686097539045,
          0.04996943087606988,
          0.04885719673660542,
          0.04704992942687167,
          0.044909693382614045,
          0.0427285818384923,
          0.0406803702576122,
          0.038812797320330585,
          0.03708352247282122,
          0.03542255057863738,
          0.033791617598710424,
          0.03221751842899523,
          0.03079348207318177,
          0.029658129142634538,
          0.028969693840402412,
          0.02889035946943383,
          0.029578674698154197,
          0.031168147291113342,
          0.033715391852744594,
          0.03713783046687877,
          0.041183591019846,
          0.04545207178568783,
          0.04944896213812284,
          0.05265226545465188,
          0.05457596838888413,
          0.05482617060520559,
          0.05314761030862237,
          0.04946079968707542,
          0.04389575176938051,
          0.03684511856680962,
          0.02911250838279108,
          0.022372638043999426,
          0.01985385819449535,
          0.023795297655285923,
          0.03179482205193053,
          0.04105053289876845,
          0.05021335396513343,
          0.05867793216407032,
          0.06617175210309649,
          0.07260211245802582,
          0.07798634869977474,
          0.08240894522942478,
          0.08599002014186398,
          0.08886133991357165,
          0.09114883883939393,
          0.09296062499658049,
          0.09437875228690155,
          0.09545262016936418,
          0.09619228042778609,
          0.09656132614188162,
          0.09647102902459391,
          0.09577910192438294,
          0.0942969032091271,
          0.09180757991361647,
          0.08809498293493372,
          0.08298030651113185,
          0.0763615139554639,
          0.06825055360323845,
          0.05880588833674692,
          0.04836515634531182,
          0.037503894876388826,
          0.0272166749693191,
          0.019494698099466284,
          0.017674287649004146,
          0.02190629026928895,
          0.02818989925717746,
          0.03407729955889421,
          0.03871577306709671,
          0.04192108754308328,
          0.04384455202781728,
          0.04483606376540355,
          0.04534211699689449,
          0.04579871641710747,
          0.04652739431227622,
          0.0476698384532686,
          0.04919197170379304,
          0.05094885997185675,
          0.05276762535106948,
          0.05450978543610761,
          0.05610086842422024,
          0.05753402324617275,
          0.058857904455248744,
          0.06015468865068884,
          0.061509728508651974,
          0.06297452036470161,
          0.06452954819590931,
          0.06605882145414262,
          0.0673475414818956,
          0.06810671680918,
          0.0680187887185509,
          0.06679279543559458,
          0.0642180336718507,
          0.06020919219836651,
          0.05484103890891699,
          0.04837647151796513,
          0.041299086049216484,
          0.034367938553284925,
          0.028683310582968483,
          0.025543768699461306,
          0.02560020573731402,
          0.028012097302299012,
          0.03121807370903831,
          0.03400001849363386,
          0.03566307642363308,
          0.035885918798154184,
          0.03459724816004095,
          0.03190967541732096,
          0.02809361490290578,
          0.023592772313956123,
          0.01911327636867814,
          0.015807011329877232,
          0.015118521762767423,
          0.017369359922208904,
          0.021289399225548837,
          0.025603292469463527,
          0.02958353168705277,
          0.03284890483466696,
          0.035198961261600395,
          0.0365358501800235,
          0.03682693599195269,
          0.03608655976685149,
          0.034369786614017905,
          0.031775812196286835,
          0.028460167286322516,
          0.024656469293965408,
          0.02071185087356991,
          0.017139225989912535,
          0.014637078635953746,
          0.013835894472679855,
          0.014679240222181592,
          0.016391190592399227,
          0.018175018712853767,
          0.019550424366397423,
          0.020313534697742167,
          0.02044584216390329,
          0.02004462433248837,
          0.019265143119827112,
          0.018269120512775714,
          0.01718915489804215,
          0.016128394664061498,
          0.01520840004852891,
          0.014647503079560085,
          0.01479333413711385,
          0.015992612165752144,
          0.018342511861387394,
          0.021612410943075745,
          0.025393292058925362,
          0.029250730193088575,
          0.032795493368722735,
          0.035710993217171916,
          0.03776840532879546,
          0.038836988605802286,
          0.03888916437545115,
          0.03799916425940591,
          0.03633481233697452,
          0.03414225224512022,
          0.03172233284722767,
          0.029394952702185895,
          0.027446788826165518,
          0.026066442895156406,
          0.0252935169300555,
          0.025021402164441008,
          0.02506230440699409,
          0.02523337061561751,
          0.025417501178536698,
          0.025584287474353068,
          0.02577874450557147,
          0.026088559968514172,
          0.026600005385394,
          0.027356654473156043,
          0.02833777821614841,
          0.029465477376624357,
          0.030634249524960123,
          0.03174716792380572,
          0.03274467919787422,
          0.03361870825696494,
          0.03440979962911364,
          0.03518806434123235,
          0.03602224071865964,
          0.03694598029391187,
          0.03793355241636033,
          0.03889427165307627,
          0.039686353863496476,
          0.040142692964579924,
          0.04009861662549912,
          0.039414527807528306,
          0.03799060437307905,
          0.03577375172525088,
          0.032758410030742716,
          0.028983285793439766,
          0.024526395861231867,
          0.019502126494314577,
          0.01407110851376272,
          0.008525226718508402,
          0.0041603768840872005,
          0.006206328941563278,
          0.01167291568933101,
          0.017435106682561152,
          0.02300788490615105,
          0.028202599831013777,
          0.032891306105040104,
          0.03697348365554629,
          0.04037018829447757,
          0.0430241624351066,
          0.04490123281438962,
          0.04599137649153452,
          0.04630872812611666,
          0.04589029864098919,
          0.04479359587375576,
          0.04309368523789146,
          0.04088041979419951,
          0.038256512544463245,
          0.03533676165283984,
          0.03224806488198969,
          0.029128899349125815,
          0.02612575022988551,
          0.023382826705362236,
          0.021021547843137235,
          0.019110759662179722,
          0.017639692925791903,
          0.016515453460802035,
          0.015597508171949792,
          0.014754675214037855,
          0.013916059822252106,
          0.013097791137574784,
          0.012399596954599808,
          0.011965070165892199,
          0.011904815342281133,
          0.012218811222303089,
          0.012783649147326033,
          0.013414487677750695,
          0.01394117753973032
         ]
        }
       ],
       "layout": {
        "height": 500,
        "hovermode": "closest",
        "legend": {
         "bgcolor": "#F2F2F2",
         "borderwidth": 0.5
        },
        "plot_bgcolor": "#FDFDFF",
        "showlegend": true,
        "template": {
         "data": {
          "bar": [
           {
            "error_x": {
             "color": "#2a3f5f"
            },
            "error_y": {
             "color": "#2a3f5f"
            },
            "marker": {
             "line": {
              "color": "#E5ECF6",
              "width": 0.5
             },
             "pattern": {
              "fillmode": "overlay",
              "size": 10,
              "solidity": 0.2
             }
            },
            "type": "bar"
           }
          ],
          "barpolar": [
           {
            "marker": {
             "line": {
              "color": "#E5ECF6",
              "width": 0.5
             },
             "pattern": {
              "fillmode": "overlay",
              "size": 10,
              "solidity": 0.2
             }
            },
            "type": "barpolar"
           }
          ],
          "carpet": [
           {
            "aaxis": {
             "endlinecolor": "#2a3f5f",
             "gridcolor": "white",
             "linecolor": "white",
             "minorgridcolor": "white",
             "startlinecolor": "#2a3f5f"
            },
            "baxis": {
             "endlinecolor": "#2a3f5f",
             "gridcolor": "white",
             "linecolor": "white",
             "minorgridcolor": "white",
             "startlinecolor": "#2a3f5f"
            },
            "type": "carpet"
           }
          ],
          "choropleth": [
           {
            "colorbar": {
             "outlinewidth": 0,
             "ticks": ""
            },
            "type": "choropleth"
           }
          ],
          "contour": [
           {
            "colorbar": {
             "outlinewidth": 0,
             "ticks": ""
            },
            "colorscale": [
             [
              0,
              "#0d0887"
             ],
             [
              0.1111111111111111,
              "#46039f"
             ],
             [
              0.2222222222222222,
              "#7201a8"
             ],
             [
              0.3333333333333333,
              "#9c179e"
             ],
             [
              0.4444444444444444,
              "#bd3786"
             ],
             [
              0.5555555555555556,
              "#d8576b"
             ],
             [
              0.6666666666666666,
              "#ed7953"
             ],
             [
              0.7777777777777778,
              "#fb9f3a"
             ],
             [
              0.8888888888888888,
              "#fdca26"
             ],
             [
              1,
              "#f0f921"
             ]
            ],
            "type": "contour"
           }
          ],
          "contourcarpet": [
           {
            "colorbar": {
             "outlinewidth": 0,
             "ticks": ""
            },
            "type": "contourcarpet"
           }
          ],
          "heatmap": [
           {
            "colorbar": {
             "outlinewidth": 0,
             "ticks": ""
            },
            "colorscale": [
             [
              0,
              "#0d0887"
             ],
             [
              0.1111111111111111,
              "#46039f"
             ],
             [
              0.2222222222222222,
              "#7201a8"
             ],
             [
              0.3333333333333333,
              "#9c179e"
             ],
             [
              0.4444444444444444,
              "#bd3786"
             ],
             [
              0.5555555555555556,
              "#d8576b"
             ],
             [
              0.6666666666666666,
              "#ed7953"
             ],
             [
              0.7777777777777778,
              "#fb9f3a"
             ],
             [
              0.8888888888888888,
              "#fdca26"
             ],
             [
              1,
              "#f0f921"
             ]
            ],
            "type": "heatmap"
           }
          ],
          "heatmapgl": [
           {
            "colorbar": {
             "outlinewidth": 0,
             "ticks": ""
            },
            "colorscale": [
             [
              0,
              "#0d0887"
             ],
             [
              0.1111111111111111,
              "#46039f"
             ],
             [
              0.2222222222222222,
              "#7201a8"
             ],
             [
              0.3333333333333333,
              "#9c179e"
             ],
             [
              0.4444444444444444,
              "#bd3786"
             ],
             [
              0.5555555555555556,
              "#d8576b"
             ],
             [
              0.6666666666666666,
              "#ed7953"
             ],
             [
              0.7777777777777778,
              "#fb9f3a"
             ],
             [
              0.8888888888888888,
              "#fdca26"
             ],
             [
              1,
              "#f0f921"
             ]
            ],
            "type": "heatmapgl"
           }
          ],
          "histogram": [
           {
            "marker": {
             "pattern": {
              "fillmode": "overlay",
              "size": 10,
              "solidity": 0.2
             }
            },
            "type": "histogram"
           }
          ],
          "histogram2d": [
           {
            "colorbar": {
             "outlinewidth": 0,
             "ticks": ""
            },
            "colorscale": [
             [
              0,
              "#0d0887"
             ],
             [
              0.1111111111111111,
              "#46039f"
             ],
             [
              0.2222222222222222,
              "#7201a8"
             ],
             [
              0.3333333333333333,
              "#9c179e"
             ],
             [
              0.4444444444444444,
              "#bd3786"
             ],
             [
              0.5555555555555556,
              "#d8576b"
             ],
             [
              0.6666666666666666,
              "#ed7953"
             ],
             [
              0.7777777777777778,
              "#fb9f3a"
             ],
             [
              0.8888888888888888,
              "#fdca26"
             ],
             [
              1,
              "#f0f921"
             ]
            ],
            "type": "histogram2d"
           }
          ],
          "histogram2dcontour": [
           {
            "colorbar": {
             "outlinewidth": 0,
             "ticks": ""
            },
            "colorscale": [
             [
              0,
              "#0d0887"
             ],
             [
              0.1111111111111111,
              "#46039f"
             ],
             [
              0.2222222222222222,
              "#7201a8"
             ],
             [
              0.3333333333333333,
              "#9c179e"
             ],
             [
              0.4444444444444444,
              "#bd3786"
             ],
             [
              0.5555555555555556,
              "#d8576b"
             ],
             [
              0.6666666666666666,
              "#ed7953"
             ],
             [
              0.7777777777777778,
              "#fb9f3a"
             ],
             [
              0.8888888888888888,
              "#fdca26"
             ],
             [
              1,
              "#f0f921"
             ]
            ],
            "type": "histogram2dcontour"
           }
          ],
          "mesh3d": [
           {
            "colorbar": {
             "outlinewidth": 0,
             "ticks": ""
            },
            "type": "mesh3d"
           }
          ],
          "parcoords": [
           {
            "line": {
             "colorbar": {
              "outlinewidth": 0,
              "ticks": ""
             }
            },
            "type": "parcoords"
           }
          ],
          "pie": [
           {
            "automargin": true,
            "type": "pie"
           }
          ],
          "scatter": [
           {
            "fillpattern": {
             "fillmode": "overlay",
             "size": 10,
             "solidity": 0.2
            },
            "type": "scatter"
           }
          ],
          "scatter3d": [
           {
            "line": {
             "colorbar": {
              "outlinewidth": 0,
              "ticks": ""
             }
            },
            "marker": {
             "colorbar": {
              "outlinewidth": 0,
              "ticks": ""
             }
            },
            "type": "scatter3d"
           }
          ],
          "scattercarpet": [
           {
            "marker": {
             "colorbar": {
              "outlinewidth": 0,
              "ticks": ""
             }
            },
            "type": "scattercarpet"
           }
          ],
          "scattergeo": [
           {
            "marker": {
             "colorbar": {
              "outlinewidth": 0,
              "ticks": ""
             }
            },
            "type": "scattergeo"
           }
          ],
          "scattergl": [
           {
            "marker": {
             "colorbar": {
              "outlinewidth": 0,
              "ticks": ""
             }
            },
            "type": "scattergl"
           }
          ],
          "scattermapbox": [
           {
            "marker": {
             "colorbar": {
              "outlinewidth": 0,
              "ticks": ""
             }
            },
            "type": "scattermapbox"
           }
          ],
          "scatterpolar": [
           {
            "marker": {
             "colorbar": {
              "outlinewidth": 0,
              "ticks": ""
             }
            },
            "type": "scatterpolar"
           }
          ],
          "scatterpolargl": [
           {
            "marker": {
             "colorbar": {
              "outlinewidth": 0,
              "ticks": ""
             }
            },
            "type": "scatterpolargl"
           }
          ],
          "scatterternary": [
           {
            "marker": {
             "colorbar": {
              "outlinewidth": 0,
              "ticks": ""
             }
            },
            "type": "scatterternary"
           }
          ],
          "surface": [
           {
            "colorbar": {
             "outlinewidth": 0,
             "ticks": ""
            },
            "colorscale": [
             [
              0,
              "#0d0887"
             ],
             [
              0.1111111111111111,
              "#46039f"
             ],
             [
              0.2222222222222222,
              "#7201a8"
             ],
             [
              0.3333333333333333,
              "#9c179e"
             ],
             [
              0.4444444444444444,
              "#bd3786"
             ],
             [
              0.5555555555555556,
              "#d8576b"
             ],
             [
              0.6666666666666666,
              "#ed7953"
             ],
             [
              0.7777777777777778,
              "#fb9f3a"
             ],
             [
              0.8888888888888888,
              "#fdca26"
             ],
             [
              1,
              "#f0f921"
             ]
            ],
            "type": "surface"
           }
          ],
          "table": [
           {
            "cells": {
             "fill": {
              "color": "#EBF0F8"
             },
             "line": {
              "color": "white"
             }
            },
            "header": {
             "fill": {
              "color": "#C8D4E3"
             },
             "line": {
              "color": "white"
             }
            },
            "type": "table"
           }
          ]
         },
         "layout": {
          "annotationdefaults": {
           "arrowcolor": "#2a3f5f",
           "arrowhead": 0,
           "arrowwidth": 1
          },
          "autotypenumbers": "strict",
          "coloraxis": {
           "colorbar": {
            "outlinewidth": 0,
            "ticks": ""
           }
          },
          "colorscale": {
           "diverging": [
            [
             0,
             "#8e0152"
            ],
            [
             0.1,
             "#c51b7d"
            ],
            [
             0.2,
             "#de77ae"
            ],
            [
             0.3,
             "#f1b6da"
            ],
            [
             0.4,
             "#fde0ef"
            ],
            [
             0.5,
             "#f7f7f7"
            ],
            [
             0.6,
             "#e6f5d0"
            ],
            [
             0.7,
             "#b8e186"
            ],
            [
             0.8,
             "#7fbc41"
            ],
            [
             0.9,
             "#4d9221"
            ],
            [
             1,
             "#276419"
            ]
           ],
           "sequential": [
            [
             0,
             "#0d0887"
            ],
            [
             0.1111111111111111,
             "#46039f"
            ],
            [
             0.2222222222222222,
             "#7201a8"
            ],
            [
             0.3333333333333333,
             "#9c179e"
            ],
            [
             0.4444444444444444,
             "#bd3786"
            ],
            [
             0.5555555555555556,
             "#d8576b"
            ],
            [
             0.6666666666666666,
             "#ed7953"
            ],
            [
             0.7777777777777778,
             "#fb9f3a"
            ],
            [
             0.8888888888888888,
             "#fdca26"
            ],
            [
             1,
             "#f0f921"
            ]
           ],
           "sequentialminus": [
            [
             0,
             "#0d0887"
            ],
            [
             0.1111111111111111,
             "#46039f"
            ],
            [
             0.2222222222222222,
             "#7201a8"
            ],
            [
             0.3333333333333333,
             "#9c179e"
            ],
            [
             0.4444444444444444,
             "#bd3786"
            ],
            [
             0.5555555555555556,
             "#d8576b"
            ],
            [
             0.6666666666666666,
             "#ed7953"
            ],
            [
             0.7777777777777778,
             "#fb9f3a"
            ],
            [
             0.8888888888888888,
             "#fdca26"
            ],
            [
             1,
             "#f0f921"
            ]
           ]
          },
          "colorway": [
           "#636efa",
           "#EF553B",
           "#00cc96",
           "#ab63fa",
           "#FFA15A",
           "#19d3f3",
           "#FF6692",
           "#B6E880",
           "#FF97FF",
           "#FECB52"
          ],
          "font": {
           "color": "#2a3f5f"
          },
          "geo": {
           "bgcolor": "white",
           "lakecolor": "white",
           "landcolor": "#E5ECF6",
           "showlakes": true,
           "showland": true,
           "subunitcolor": "white"
          },
          "hoverlabel": {
           "align": "left"
          },
          "hovermode": "closest",
          "mapbox": {
           "style": "light"
          },
          "paper_bgcolor": "white",
          "plot_bgcolor": "#E5ECF6",
          "polar": {
           "angularaxis": {
            "gridcolor": "white",
            "linecolor": "white",
            "ticks": ""
           },
           "bgcolor": "#E5ECF6",
           "radialaxis": {
            "gridcolor": "white",
            "linecolor": "white",
            "ticks": ""
           }
          },
          "scene": {
           "xaxis": {
            "backgroundcolor": "#E5ECF6",
            "gridcolor": "white",
            "gridwidth": 2,
            "linecolor": "white",
            "showbackground": true,
            "ticks": "",
            "zerolinecolor": "white"
           },
           "yaxis": {
            "backgroundcolor": "#E5ECF6",
            "gridcolor": "white",
            "gridwidth": 2,
            "linecolor": "white",
            "showbackground": true,
            "ticks": "",
            "zerolinecolor": "white"
           },
           "zaxis": {
            "backgroundcolor": "#E5ECF6",
            "gridcolor": "white",
            "gridwidth": 2,
            "linecolor": "white",
            "showbackground": true,
            "ticks": "",
            "zerolinecolor": "white"
           }
          },
          "shapedefaults": {
           "line": {
            "color": "#2a3f5f"
           }
          },
          "ternary": {
           "aaxis": {
            "gridcolor": "white",
            "linecolor": "white",
            "ticks": ""
           },
           "baxis": {
            "gridcolor": "white",
            "linecolor": "white",
            "ticks": ""
           },
           "bgcolor": "#E5ECF6",
           "caxis": {
            "gridcolor": "white",
            "linecolor": "white",
            "ticks": ""
           }
          },
          "title": {
           "x": 0.05
          },
          "xaxis": {
           "automargin": true,
           "gridcolor": "white",
           "linecolor": "white",
           "ticks": "",
           "title": {
            "standoff": 15
           },
           "zerolinecolor": "white",
           "zerolinewidth": 2
          },
          "yaxis": {
           "automargin": true,
           "gridcolor": "white",
           "linecolor": "white",
           "ticks": "",
           "title": {
            "standoff": 15
           },
           "zerolinecolor": "white",
           "zerolinewidth": 2
          }
         }
        },
        "title": {
         "text": "znse_zn_xafs.001"
        },
        "width": 650,
        "xaxis": {
         "color": "#004",
         "gridcolor": "#D8D8D8",
         "showgrid": true,
         "title": {
          "text": "$R \\rm\\,(\\unicode{x212B})$"
         },
         "zerolinecolor": "#DDD"
        },
        "yaxis": {
         "color": "#004",
         "gridcolor": "#D8D8D8",
         "showgrid": true,
         "title": {
          "text": "$|\\chi(R)| \\rm\\,(\\unicode{x212B}^{{-3}})$"
         },
         "zerolinecolor": "#DDD"
        }
       }
      },
      "text/html": [
       "<div>                            <div id=\"9e8de9e8-dba5-40e1-960f-795716d42148\" class=\"plotly-graph-div\" style=\"height:500px; width:650px;\"></div>            <script type=\"text/javascript\">                require([\"plotly\"], function(Plotly) {                    window.PLOTLYENV=window.PLOTLYENV || {};                                    if (document.getElementById(\"9e8de9e8-dba5-40e1-960f-795716d42148\")) {                    Plotly.newPlot(                        \"9e8de9e8-dba5-40e1-960f-795716d42148\",                        [{\"line\":{\"color\":\"#1f77b4\",\"width\":3},\"name\":\"chir (mag)\",\"x\":[0.0,0.030679615757712823,0.06135923151542565,0.09203884727313846,0.1227184630308513,0.15339807878856412,0.18407769454627693,0.21475731030398976,0.2454369260617026,0.2761165418194154,0.30679615757712825,0.3374757733348411,0.36815538909255385,0.3988350048502667,0.4295146206079795,0.46019423636569234,0.4908738521234052,0.521553467881118,0.5522330836388308,0.5829126993965437,0.6135923151542565,0.6442719309119693,0.6749515466696822,0.705631162427395,0.7363107781851077,0.7669903939428205,0.7976700097005334,0.8283496254582462,0.859029241215959,0.8897088569736719,0.9203884727313847,0.9510680884890975,0.9817477042468103,1.012427320004523,1.043106935762236,1.0737865515199487,1.1044661672776617,1.1351457830353744,1.1658253987930873,1.1965050145508,1.227184630308513,1.2578642460662257,1.2885438618239387,1.3192234775816514,1.3499030933393643,1.380582709097077,1.41126232485479,1.4419419406125027,1.4726215563702154,1.5033011721279284,1.533980787885641,1.564660403643354,1.5953400194010667,1.6260196351587797,1.6566992509164924,1.6873788666742053,1.718058482431918,1.748738098189631,1.7794177139473437,1.8100973297050567,1.8407769454627694,1.8714565612204823,1.902136176978195,1.932815792735908,1.9634954084936207,1.9941750242513334,2.024854640009046,2.055534255766759,2.086213871524472,2.116893487282185,2.1475731030398975,2.1782527187976104,2.2089323345553233,2.2396119503130363,2.270291566070749,2.3009711818284617,2.3316507975861747,2.3623304133438876,2.3930100291016,2.423689644859313,2.454369260617026,2.4850488763747385,2.5157284921324514,2.5464081078901644,2.5770877236478773,2.60776733940559,2.6384469551633027,2.6691265709210157,2.6998061866787286,2.730485802436441,2.761165418194154,2.791845033951867,2.82252464970958,2.8532042654672924,2.8838838812250054,2.9145634969827183,2.945243112740431,2.9759227284981438,3.0066023442558567,3.0372819600135696,3.067961575771282,3.098641191528995,3.129320807286708,3.160000423044421,3.1906800388021335,3.2213596545598464,3.2520392703175593,3.2827188860752723,3.313398501832985,3.3440781175906977,3.3747577333484107,3.4054373491061236,3.436116964863836,3.466796580621549,3.497476196379262,3.5281558121369745,3.5588354278946874,3.5895150436524004,3.6201946594101133,3.650874275167826,3.6815538909255388,3.7122335066832517,3.7429131224409646,3.773592738198677,3.80427235395639,3.834951969714103,3.865631585471816,3.8963112012295285,3.9269908169872414,3.9576704327449543,3.988350048502667,4.01902966426038,4.049709280018092,4.080388895775806,4.111068511533518,4.1417481272912315,4.172427743048944,4.2031073588066565,4.23378697456437,4.264466590322082,4.295146206079795,4.325825821837508,4.356505437595221,4.387185053352934,4.417864669110647,4.448544284868359,4.479223900626073,4.509903516383785,4.540583132141498,4.571262747899211,4.601942363656923,4.632621979414636,4.663301595172349,4.693981210930062,4.724660826687775,4.755340442445488,4.7860200582032,4.816699673960914,4.847379289718626,4.878058905476339,4.908738521234052,4.9394181369917645,4.970097752749477,5.00077736850719,5.031456984264903,5.062136600022616,5.092816215780329,5.123495831538041,5.154175447295755,5.184855063053467,5.21553467881118,5.246214294568893,5.2768939103266055,5.307573526084319,5.338253141842031,5.368932757599744,5.399612373357457,5.43029198911517,5.460971604872882,5.491651220630596,5.522330836388308,5.553010452146021,5.583690067903734,5.6143696836614465,5.64504929941916,5.675728915176872,5.706408530934585,5.737088146692298,5.767767762450011,5.798447378207723,5.829126993965437,5.859806609723149,5.890486225480862,5.921165841238575,5.9518454569962875,5.982525072754001,6.013204688511713,6.043884304269426,6.074563920027139,6.105243535784852,6.135923151542564,6.166602767300278,6.19728238305799,6.227961998815704,6.258641614573416,6.2893212303311286,6.320000846088842,6.350680461846554,6.381360077604267,6.41203969336198,6.442719309119693,6.473398924877405,6.504078540635119,6.534758156392831,6.565437772150545,6.596117387908257,6.62679700366597,6.657476619423683,6.6881562351813955,6.718835850939108,6.749515466696821,6.780195082454534,6.810874698212247,6.84155431396996,6.872233929727672,6.902913545485386,6.933593161243098,6.964272777000811,6.994952392758524,7.0256320085162365,7.056311624273949,7.086991240031662,7.117670855789375,7.148350471547088,7.179030087304801,7.209709703062513,7.240389318820227,7.271068934577939,7.301748550335652,7.332428166093365,7.3631077818510775,7.39378739760879,7.424467013366503,7.455146629124216,7.485826244881929,7.516505860639642,7.547185476397354,7.577865092155068,7.60854470791278,7.639224323670493,7.669903939428206,7.7005835551859185,7.731263170943632,7.761942786701344,7.792622402459057,7.82330201821677,7.853981633974483,7.884661249732195,7.915340865489909,7.946020481247621,7.976700097005334,8.007379712763047,8.03805932852076,8.068738944278472,8.099418560036185,8.130098175793899,8.160777791551611,8.191457407309324,8.222137023067036,8.252816638824749,8.283496254582463,8.314175870340176,8.344855486097888,8.3755351018556,8.406214717613313,8.436894333371026,8.46757394912874,8.498253564886452,8.528933180644165,8.559612796401877,8.59029241215959,8.620972027917304,8.651651643675017,8.682331259432729,8.713010875190442,8.743690490948154,8.774370106705868,8.80504972246358,8.835729338221293,8.866408953979006,8.897088569736718,8.92776818549443,8.958447801252145,8.989127417009858,9.01980703276757,9.050486648525283,9.081166264282995,9.11184588004071,9.142525495798422,9.173205111556134,9.203884727313847,9.23456434307156,9.265243958829272,9.295923574586986,9.326603190344699,9.357282806102411,9.387962421860124,9.418642037617836,9.44932165337555,9.480001269133263,9.510680884890975,9.541360500648688,9.5720401164064,9.602719732164113,9.633399347921827,9.66407896367954,9.694758579437252,9.725438195194965,9.756117810952677,9.786797426710391,9.817477042468104,9.848156658225816,9.878836273983529,9.909515889741241,9.940195505498954,9.970875121256668,10.00155473701438,10.032234352772093,10.062913968529806,10.093593584287518,10.124273200045232,10.154952815802945,10.185632431560657,10.21631204731837,10.246991663076082,10.277671278833797,10.30835089459151,10.339030510349222,10.369710126106934,10.400389741864647,10.43106935762236,10.461748973380073,10.492428589137786,10.523108204895498,10.553787820653211,10.584467436410923,10.615147052168638,10.64582666792635,10.676506283684063,10.707185899441775,10.737865515199488,10.7685451309572,10.799224746714915,10.829904362472627,10.86058397823034,10.891263593988052,10.921943209745764,10.952622825503479,10.983302441261191,11.013982057018904,11.044661672776616,11.075341288534329,11.106020904292041,11.136700520049756,11.167380135807468,11.19805975156518,11.228739367322893,11.259418983080606,11.29009859883832,11.320778214596032,11.351457830353745,11.382137446111457,11.41281706186917,11.443496677626882,11.474176293384597,11.504855909142309,11.535535524900022,11.566215140657734,11.596894756415447,11.62757437217316,11.658253987930873,11.688933603688586,11.719613219446298,11.75029283520401,11.780972450961723,11.811652066719438,11.84233168247715,11.873011298234863,11.903690913992575,11.934370529750288,11.965050145508002,11.995729761265714],\"y\":[0.0012560045813329907,0.0012823895687430473,0.0013251274967074347,0.0013109155447339354,0.0011847126778196776,0.0009381696300938791,0.0006353412558853597,0.0005037587262966425,0.0007280088139340824,0.0010268980868513055,0.001212093883803272,0.0012159442598706329,0.0010378412698383082,0.0007676846170252995,0.0006818832993674706,0.0009726633908624973,0.00135495110985566,0.0016016232330412642,0.0016020390332915203,0.0013171775535458991,0.0007962157354360791,0.00045847643539777104,0.001048045405774971,0.0017230396080332262,0.002135472257423206,0.002205355374735768,0.0023168881829955437,0.0035422640258568933,0.006263267693444959,0.010172371297835076,0.014979472956729259,0.020382266037489116,0.026031052957460027,0.03154897475814762,0.03658173877607266,0.04086881723312306,0.044332747969445266,0.04717750247992839,0.049963188888920554,0.05357668580801045,0.058998200888988404,0.06690617707600352,0.07740164052134134,0.09006058020245297,0.10418931158380981,0.11907478580055235,0.13416492634426194,0.14920373362770167,0.16434957618355345,0.1802825406877738,0.19827857901517695,0.22019749446314785,0.24832107622134617,0.2850281792205354,0.3323980974496848,0.39188858808399846,0.4641653175666978,0.5490500246978353,0.6455203248670262,0.7517283057843924,0.8650431153978467,0.9821357472547854,1.0991186433781888,1.2117408409003914,1.3156280103569415,1.4065482868743688,1.4806798768699037,1.5348550772428482,1.5667573993958255,1.5750535565806016,1.5594494887442816,1.5206684195844264,1.460357986174896,1.38094144758418,1.2854336053584512,1.1772443625954803,1.0599913351544914,0.9373378786343706,0.8128654355474464,0.6899811268987336,0.571855317170244,0.4613816866927823,0.36115574496012354,0.2734767445354864,0.20038555371754246,0.1437103208836837,0.10480091341011631,0.08295615483041067,0.07305359845680898,0.06752096895636621,0.06124891438201802,0.052632609083810816,0.042176815204314454,0.031317736443227905,0.02181419536384356,0.015451417425076509,0.013297941155165544,0.014504771204752234,0.018077120852002054,0.02422740686364241,0.03304703004443632,0.044020675514769896,0.05644048026886422,0.06976133809495103,0.0837530771282826,0.09850214866446896,0.1142870754764756,0.1313708173336006,0.1497943458578711,0.16925837049678996,0.18912863316296544,0.2085380634956586,0.2265312033930631,0.24220391120219265,0.2548114469818967,0.26383471098464123,0.26900449973961077,0.2702892677492085,0.267855179648407,0.26200923855640806,0.25313726847434,0.24164847168326956,0.22793703683503547,0.212368799755389,0.1952975939395945,0.17711263338195934,0.15831647856662565,0.1396333285062237,0.12214363795218264,0.10740452943127153,0.09737739720955162,0.09379318288326993,0.09700885697538765,0.10561623048832353,0.11743153571160099,0.13055891016559218,0.1437203446737969,0.15615355590968447,0.16741694858489503,0.17721691573479725,0.18528253443625298,0.19129541689008514,0.19487636678280562,0.19562101533328094,0.19316717388925594,0.18727229796591272,0.17788145349496953,0.16517246675885605,0.14957275721956426,0.1317499688523575,0.11258566228796286,0.09314894667976639,0.07469567476548748,0.05871718941313193,0.046963142632173514,0.04093968638283363,0.04041023849781581,0.04302019103773365,0.04628782369887363,0.04879935342516375,0.050031686097539045,0.04996943087606988,0.04885719673660542,0.04704992942687167,0.044909693382614045,0.0427285818384923,0.0406803702576122,0.038812797320330585,0.03708352247282122,0.03542255057863738,0.033791617598710424,0.03221751842899523,0.03079348207318177,0.029658129142634538,0.028969693840402412,0.02889035946943383,0.029578674698154197,0.031168147291113342,0.033715391852744594,0.03713783046687877,0.041183591019846,0.04545207178568783,0.04944896213812284,0.05265226545465188,0.05457596838888413,0.05482617060520559,0.05314761030862237,0.04946079968707542,0.04389575176938051,0.03684511856680962,0.02911250838279108,0.022372638043999426,0.01985385819449535,0.023795297655285923,0.03179482205193053,0.04105053289876845,0.05021335396513343,0.05867793216407032,0.06617175210309649,0.07260211245802582,0.07798634869977474,0.08240894522942478,0.08599002014186398,0.08886133991357165,0.09114883883939393,0.09296062499658049,0.09437875228690155,0.09545262016936418,0.09619228042778609,0.09656132614188162,0.09647102902459391,0.09577910192438294,0.0942969032091271,0.09180757991361647,0.08809498293493372,0.08298030651113185,0.0763615139554639,0.06825055360323845,0.05880588833674692,0.04836515634531182,0.037503894876388826,0.0272166749693191,0.019494698099466284,0.017674287649004146,0.02190629026928895,0.02818989925717746,0.03407729955889421,0.03871577306709671,0.04192108754308328,0.04384455202781728,0.04483606376540355,0.04534211699689449,0.04579871641710747,0.04652739431227622,0.0476698384532686,0.04919197170379304,0.05094885997185675,0.05276762535106948,0.05450978543610761,0.05610086842422024,0.05753402324617275,0.058857904455248744,0.06015468865068884,0.061509728508651974,0.06297452036470161,0.06452954819590931,0.06605882145414262,0.0673475414818956,0.06810671680918,0.0680187887185509,0.06679279543559458,0.0642180336718507,0.06020919219836651,0.05484103890891699,0.04837647151796513,0.041299086049216484,0.034367938553284925,0.028683310582968483,0.025543768699461306,0.02560020573731402,0.028012097302299012,0.03121807370903831,0.03400001849363386,0.03566307642363308,0.035885918798154184,0.03459724816004095,0.03190967541732096,0.02809361490290578,0.023592772313956123,0.01911327636867814,0.015807011329877232,0.015118521762767423,0.017369359922208904,0.021289399225548837,0.025603292469463527,0.02958353168705277,0.03284890483466696,0.035198961261600395,0.0365358501800235,0.03682693599195269,0.03608655976685149,0.034369786614017905,0.031775812196286835,0.028460167286322516,0.024656469293965408,0.02071185087356991,0.017139225989912535,0.014637078635953746,0.013835894472679855,0.014679240222181592,0.016391190592399227,0.018175018712853767,0.019550424366397423,0.020313534697742167,0.02044584216390329,0.02004462433248837,0.019265143119827112,0.018269120512775714,0.01718915489804215,0.016128394664061498,0.01520840004852891,0.014647503079560085,0.01479333413711385,0.015992612165752144,0.018342511861387394,0.021612410943075745,0.025393292058925362,0.029250730193088575,0.032795493368722735,0.035710993217171916,0.03776840532879546,0.038836988605802286,0.03888916437545115,0.03799916425940591,0.03633481233697452,0.03414225224512022,0.03172233284722767,0.029394952702185895,0.027446788826165518,0.026066442895156406,0.0252935169300555,0.025021402164441008,0.02506230440699409,0.02523337061561751,0.025417501178536698,0.025584287474353068,0.02577874450557147,0.026088559968514172,0.026600005385394,0.027356654473156043,0.02833777821614841,0.029465477376624357,0.030634249524960123,0.03174716792380572,0.03274467919787422,0.03361870825696494,0.03440979962911364,0.03518806434123235,0.03602224071865964,0.03694598029391187,0.03793355241636033,0.03889427165307627,0.039686353863496476,0.040142692964579924,0.04009861662549912,0.039414527807528306,0.03799060437307905,0.03577375172525088,0.032758410030742716,0.028983285793439766,0.024526395861231867,0.019502126494314577,0.01407110851376272,0.008525226718508402,0.0041603768840872005,0.006206328941563278,0.01167291568933101,0.017435106682561152,0.02300788490615105,0.028202599831013777,0.032891306105040104,0.03697348365554629,0.04037018829447757,0.0430241624351066,0.04490123281438962,0.04599137649153452,0.04630872812611666,0.04589029864098919,0.04479359587375576,0.04309368523789146,0.04088041979419951,0.038256512544463245,0.03533676165283984,0.03224806488198969,0.029128899349125815,0.02612575022988551,0.023382826705362236,0.021021547843137235,0.019110759662179722,0.017639692925791903,0.016515453460802035,0.015597508171949792,0.014754675214037855,0.013916059822252106,0.013097791137574784,0.012399596954599808,0.011965070165892199,0.011904815342281133,0.012218811222303089,0.012783649147326033,0.013414487677750695,0.01394117753973032],\"type\":\"scatter\",\"uid\":\"da3f9dfc-8da5-409d-8f10-cff4e1a227f4\"}],                        {\"template\":{\"data\":{\"barpolar\":[{\"marker\":{\"line\":{\"color\":\"#E5ECF6\",\"width\":0.5},\"pattern\":{\"fillmode\":\"overlay\",\"size\":10,\"solidity\":0.2}},\"type\":\"barpolar\"}],\"bar\":[{\"error_x\":{\"color\":\"#2a3f5f\"},\"error_y\":{\"color\":\"#2a3f5f\"},\"marker\":{\"line\":{\"color\":\"#E5ECF6\",\"width\":0.5},\"pattern\":{\"fillmode\":\"overlay\",\"size\":10,\"solidity\":0.2}},\"type\":\"bar\"}],\"carpet\":[{\"aaxis\":{\"endlinecolor\":\"#2a3f5f\",\"gridcolor\":\"white\",\"linecolor\":\"white\",\"minorgridcolor\":\"white\",\"startlinecolor\":\"#2a3f5f\"},\"baxis\":{\"endlinecolor\":\"#2a3f5f\",\"gridcolor\":\"white\",\"linecolor\":\"white\",\"minorgridcolor\":\"white\",\"startlinecolor\":\"#2a3f5f\"},\"type\":\"carpet\"}],\"choropleth\":[{\"colorbar\":{\"outlinewidth\":0,\"ticks\":\"\"},\"type\":\"choropleth\"}],\"contourcarpet\":[{\"colorbar\":{\"outlinewidth\":0,\"ticks\":\"\"},\"type\":\"contourcarpet\"}],\"contour\":[{\"colorbar\":{\"outlinewidth\":0,\"ticks\":\"\"},\"colorscale\":[[0.0,\"#0d0887\"],[0.1111111111111111,\"#46039f\"],[0.2222222222222222,\"#7201a8\"],[0.3333333333333333,\"#9c179e\"],[0.4444444444444444,\"#bd3786\"],[0.5555555555555556,\"#d8576b\"],[0.6666666666666666,\"#ed7953\"],[0.7777777777777778,\"#fb9f3a\"],[0.8888888888888888,\"#fdca26\"],[1.0,\"#f0f921\"]],\"type\":\"contour\"}],\"heatmapgl\":[{\"colorbar\":{\"outlinewidth\":0,\"ticks\":\"\"},\"colorscale\":[[0.0,\"#0d0887\"],[0.1111111111111111,\"#46039f\"],[0.2222222222222222,\"#7201a8\"],[0.3333333333333333,\"#9c179e\"],[0.4444444444444444,\"#bd3786\"],[0.5555555555555556,\"#d8576b\"],[0.6666666666666666,\"#ed7953\"],[0.7777777777777778,\"#fb9f3a\"],[0.8888888888888888,\"#fdca26\"],[1.0,\"#f0f921\"]],\"type\":\"heatmapgl\"}],\"heatmap\":[{\"colorbar\":{\"outlinewidth\":0,\"ticks\":\"\"},\"colorscale\":[[0.0,\"#0d0887\"],[0.1111111111111111,\"#46039f\"],[0.2222222222222222,\"#7201a8\"],[0.3333333333333333,\"#9c179e\"],[0.4444444444444444,\"#bd3786\"],[0.5555555555555556,\"#d8576b\"],[0.6666666666666666,\"#ed7953\"],[0.7777777777777778,\"#fb9f3a\"],[0.8888888888888888,\"#fdca26\"],[1.0,\"#f0f921\"]],\"type\":\"heatmap\"}],\"histogram2dcontour\":[{\"colorbar\":{\"outlinewidth\":0,\"ticks\":\"\"},\"colorscale\":[[0.0,\"#0d0887\"],[0.1111111111111111,\"#46039f\"],[0.2222222222222222,\"#7201a8\"],[0.3333333333333333,\"#9c179e\"],[0.4444444444444444,\"#bd3786\"],[0.5555555555555556,\"#d8576b\"],[0.6666666666666666,\"#ed7953\"],[0.7777777777777778,\"#fb9f3a\"],[0.8888888888888888,\"#fdca26\"],[1.0,\"#f0f921\"]],\"type\":\"histogram2dcontour\"}],\"histogram2d\":[{\"colorbar\":{\"outlinewidth\":0,\"ticks\":\"\"},\"colorscale\":[[0.0,\"#0d0887\"],[0.1111111111111111,\"#46039f\"],[0.2222222222222222,\"#7201a8\"],[0.3333333333333333,\"#9c179e\"],[0.4444444444444444,\"#bd3786\"],[0.5555555555555556,\"#d8576b\"],[0.6666666666666666,\"#ed7953\"],[0.7777777777777778,\"#fb9f3a\"],[0.8888888888888888,\"#fdca26\"],[1.0,\"#f0f921\"]],\"type\":\"histogram2d\"}],\"histogram\":[{\"marker\":{\"pattern\":{\"fillmode\":\"overlay\",\"size\":10,\"solidity\":0.2}},\"type\":\"histogram\"}],\"mesh3d\":[{\"colorbar\":{\"outlinewidth\":0,\"ticks\":\"\"},\"type\":\"mesh3d\"}],\"parcoords\":[{\"line\":{\"colorbar\":{\"outlinewidth\":0,\"ticks\":\"\"}},\"type\":\"parcoords\"}],\"pie\":[{\"automargin\":true,\"type\":\"pie\"}],\"scatter3d\":[{\"line\":{\"colorbar\":{\"outlinewidth\":0,\"ticks\":\"\"}},\"marker\":{\"colorbar\":{\"outlinewidth\":0,\"ticks\":\"\"}},\"type\":\"scatter3d\"}],\"scattercarpet\":[{\"marker\":{\"colorbar\":{\"outlinewidth\":0,\"ticks\":\"\"}},\"type\":\"scattercarpet\"}],\"scattergeo\":[{\"marker\":{\"colorbar\":{\"outlinewidth\":0,\"ticks\":\"\"}},\"type\":\"scattergeo\"}],\"scattergl\":[{\"marker\":{\"colorbar\":{\"outlinewidth\":0,\"ticks\":\"\"}},\"type\":\"scattergl\"}],\"scattermapbox\":[{\"marker\":{\"colorbar\":{\"outlinewidth\":0,\"ticks\":\"\"}},\"type\":\"scattermapbox\"}],\"scatterpolargl\":[{\"marker\":{\"colorbar\":{\"outlinewidth\":0,\"ticks\":\"\"}},\"type\":\"scatterpolargl\"}],\"scatterpolar\":[{\"marker\":{\"colorbar\":{\"outlinewidth\":0,\"ticks\":\"\"}},\"type\":\"scatterpolar\"}],\"scatter\":[{\"fillpattern\":{\"fillmode\":\"overlay\",\"size\":10,\"solidity\":0.2},\"type\":\"scatter\"}],\"scatterternary\":[{\"marker\":{\"colorbar\":{\"outlinewidth\":0,\"ticks\":\"\"}},\"type\":\"scatterternary\"}],\"surface\":[{\"colorbar\":{\"outlinewidth\":0,\"ticks\":\"\"},\"colorscale\":[[0.0,\"#0d0887\"],[0.1111111111111111,\"#46039f\"],[0.2222222222222222,\"#7201a8\"],[0.3333333333333333,\"#9c179e\"],[0.4444444444444444,\"#bd3786\"],[0.5555555555555556,\"#d8576b\"],[0.6666666666666666,\"#ed7953\"],[0.7777777777777778,\"#fb9f3a\"],[0.8888888888888888,\"#fdca26\"],[1.0,\"#f0f921\"]],\"type\":\"surface\"}],\"table\":[{\"cells\":{\"fill\":{\"color\":\"#EBF0F8\"},\"line\":{\"color\":\"white\"}},\"header\":{\"fill\":{\"color\":\"#C8D4E3\"},\"line\":{\"color\":\"white\"}},\"type\":\"table\"}]},\"layout\":{\"annotationdefaults\":{\"arrowcolor\":\"#2a3f5f\",\"arrowhead\":0,\"arrowwidth\":1},\"autotypenumbers\":\"strict\",\"coloraxis\":{\"colorbar\":{\"outlinewidth\":0,\"ticks\":\"\"}},\"colorscale\":{\"diverging\":[[0,\"#8e0152\"],[0.1,\"#c51b7d\"],[0.2,\"#de77ae\"],[0.3,\"#f1b6da\"],[0.4,\"#fde0ef\"],[0.5,\"#f7f7f7\"],[0.6,\"#e6f5d0\"],[0.7,\"#b8e186\"],[0.8,\"#7fbc41\"],[0.9,\"#4d9221\"],[1,\"#276419\"]],\"sequential\":[[0.0,\"#0d0887\"],[0.1111111111111111,\"#46039f\"],[0.2222222222222222,\"#7201a8\"],[0.3333333333333333,\"#9c179e\"],[0.4444444444444444,\"#bd3786\"],[0.5555555555555556,\"#d8576b\"],[0.6666666666666666,\"#ed7953\"],[0.7777777777777778,\"#fb9f3a\"],[0.8888888888888888,\"#fdca26\"],[1.0,\"#f0f921\"]],\"sequentialminus\":[[0.0,\"#0d0887\"],[0.1111111111111111,\"#46039f\"],[0.2222222222222222,\"#7201a8\"],[0.3333333333333333,\"#9c179e\"],[0.4444444444444444,\"#bd3786\"],[0.5555555555555556,\"#d8576b\"],[0.6666666666666666,\"#ed7953\"],[0.7777777777777778,\"#fb9f3a\"],[0.8888888888888888,\"#fdca26\"],[1.0,\"#f0f921\"]]},\"colorway\":[\"#636efa\",\"#EF553B\",\"#00cc96\",\"#ab63fa\",\"#FFA15A\",\"#19d3f3\",\"#FF6692\",\"#B6E880\",\"#FF97FF\",\"#FECB52\"],\"font\":{\"color\":\"#2a3f5f\"},\"geo\":{\"bgcolor\":\"white\",\"lakecolor\":\"white\",\"landcolor\":\"#E5ECF6\",\"showlakes\":true,\"showland\":true,\"subunitcolor\":\"white\"},\"hoverlabel\":{\"align\":\"left\"},\"hovermode\":\"closest\",\"mapbox\":{\"style\":\"light\"},\"paper_bgcolor\":\"white\",\"plot_bgcolor\":\"#E5ECF6\",\"polar\":{\"angularaxis\":{\"gridcolor\":\"white\",\"linecolor\":\"white\",\"ticks\":\"\"},\"bgcolor\":\"#E5ECF6\",\"radialaxis\":{\"gridcolor\":\"white\",\"linecolor\":\"white\",\"ticks\":\"\"}},\"scene\":{\"xaxis\":{\"backgroundcolor\":\"#E5ECF6\",\"gridcolor\":\"white\",\"gridwidth\":2,\"linecolor\":\"white\",\"showbackground\":true,\"ticks\":\"\",\"zerolinecolor\":\"white\"},\"yaxis\":{\"backgroundcolor\":\"#E5ECF6\",\"gridcolor\":\"white\",\"gridwidth\":2,\"linecolor\":\"white\",\"showbackground\":true,\"ticks\":\"\",\"zerolinecolor\":\"white\"},\"zaxis\":{\"backgroundcolor\":\"#E5ECF6\",\"gridcolor\":\"white\",\"gridwidth\":2,\"linecolor\":\"white\",\"showbackground\":true,\"ticks\":\"\",\"zerolinecolor\":\"white\"}},\"shapedefaults\":{\"line\":{\"color\":\"#2a3f5f\"}},\"ternary\":{\"aaxis\":{\"gridcolor\":\"white\",\"linecolor\":\"white\",\"ticks\":\"\"},\"baxis\":{\"gridcolor\":\"white\",\"linecolor\":\"white\",\"ticks\":\"\"},\"bgcolor\":\"#E5ECF6\",\"caxis\":{\"gridcolor\":\"white\",\"linecolor\":\"white\",\"ticks\":\"\"}},\"title\":{\"x\":0.05},\"xaxis\":{\"automargin\":true,\"gridcolor\":\"white\",\"linecolor\":\"white\",\"ticks\":\"\",\"title\":{\"standoff\":15},\"zerolinecolor\":\"white\",\"zerolinewidth\":2},\"yaxis\":{\"automargin\":true,\"gridcolor\":\"white\",\"linecolor\":\"white\",\"ticks\":\"\",\"title\":{\"standoff\":15},\"zerolinecolor\":\"white\",\"zerolinewidth\":2}}},\"legend\":{\"borderwidth\":0.5,\"bgcolor\":\"#F2F2F2\"},\"xaxis\":{\"showgrid\":true,\"gridcolor\":\"#D8D8D8\",\"color\":\"#004\",\"zerolinecolor\":\"#DDD\",\"title\":{\"text\":\"$R \\\\rm\\\\,(\\\\unicode{x212B})$\"}},\"yaxis\":{\"showgrid\":true,\"gridcolor\":\"#D8D8D8\",\"color\":\"#004\",\"zerolinecolor\":\"#DDD\",\"title\":{\"text\":\"$|\\\\chi(R)| \\\\rm\\\\,(\\\\unicode{x212B}^{{-3}})$\"}},\"width\":650,\"height\":500,\"showlegend\":true,\"hovermode\":\"closest\",\"plot_bgcolor\":\"#FDFDFF\",\"title\":{\"text\":\"znse_zn_xafs.001\"}},                        {\"responsive\": true}                    ).then(function(){\n",
       "                            \n",
       "var gd = document.getElementById('9e8de9e8-dba5-40e1-960f-795716d42148');\n",
       "var x = new MutationObserver(function (mutations, observer) {{\n",
       "        var display = window.getComputedStyle(gd).display;\n",
       "        if (!display || display === 'none') {{\n",
       "            console.log([gd, 'removed!']);\n",
       "            Plotly.purge(gd);\n",
       "            observer.disconnect();\n",
       "        }}\n",
       "}});\n",
       "\n",
       "// Listen for the removal of the full notebook cells\n",
       "var notebookContainer = gd.closest('#notebook-container');\n",
       "if (notebookContainer) {{\n",
       "    x.observe(notebookContainer, {childList: true});\n",
       "}}\n",
       "\n",
       "// Listen for the clearing of the current output cell\n",
       "var outputEl = gd.closest('.output');\n",
       "if (outputEl) {{\n",
       "    x.observe(outputEl, {childList: true});\n",
       "}}\n",
       "\n",
       "                        })                };                });            </script>        </div>"
      ]
     },
     "metadata": {},
     "output_type": "display_data"
    },
    {
     "data": {
      "text/plain": [
       "<larch.plot.plotly_xafsplots.PlotlyFigure at 0x1a101bc50>"
      ]
     },
     "execution_count": 32,
     "metadata": {},
     "output_type": "execute_result"
    }
   ],
   "source": [
    "# so, we could plot the data from this group\n",
    "from larch.plot.plotly_xafsplots import plot_chir\n",
    "\n",
    "plot_chir(session.symbols['znseznxaf'])"
   ]
  },
  {
   "cell_type": "code",
   "execution_count": 33,
   "metadata": {},
   "outputs": [
    {
     "name": "stdout",
     "output_type": "stream",
     "text": [
      "=================== FEFFIT RESULTS ====================\n",
      "[[Statistics]]\n",
      "  n_function_calls     = 43\n",
      "  n_variables          = 6\n",
      "  n_data_points        = 190\n",
      "  n_independent        = 20.3850721\n",
      "  chi_square           = 179.697341\n",
      "  reduced chi_square   = 12.4919319\n",
      "  r-factor             = 0.00251923\n",
      "  Akaike info crit     = 56.3675207\n",
      "  Bayesian info crit   = 62.4563380\n",
      " \n",
      "[[Variables]]\n",
      "  delr_Se245           = -0.0031289 +/- 0.0022307  (init= 1.0000e-3)\n",
      "  delr_Zn401           =  0.0112381 +/- 0.0078103  (init= 1.0000e-3)\n",
      "  e0                   =  1.2705377 +/- 0.4747182  (init= 1.0000e-3)\n",
      "  s02                  =  0.9503196 +/- 0.0367945  (init= 1.0000000)\n",
      "  sigma2_Se245         =  0.0063315 +/- 2.7813e-4  (init= 0.0078000)\n",
      "  sigma2_Zn401         =  0.0210849 +/- 9.0306e-4  (init= 0.0100000)\n",
      " \n",
      "[[Correlations]] (unreported correlations are <  0.100)\n",
      "  s02, sigma2_Se245    =  0.937\n",
      "  delr_Se245, e0       =  0.919\n",
      "  delr_Zn401, e0       =  0.686\n",
      "  delr_Se245, delr_Zn401 =  0.635\n",
      "  s02, sigma2_Zn401    =  0.444\n",
      "  sigma2_Se245, sigma2_Zn401 =  0.415\n",
      "  delr_Se245, s02      =  0.180\n",
      "  delr_Se245, sigma2_Se245 =  0.179\n",
      " \n",
      "[[Dataset]]\n",
      "  unique_id            = 'dgpalu27'\n",
      "  fit space            = 'r'\n",
      "  r-range              = 1.100, 4.000\n",
      "  k-range              = 2.500, 13.000\n",
      "  k window, dk         = 'Kaiser-Bessel', 4.000\n",
      "  paths used in fit    = ['/Users/Newville/.larch/feff/Zn1_K_Stilleite_cif11535/feff0001.dat', '/Users/Newville/.larch/feff/Zn1_K_Stilleite_cif11535/feff0002.dat']\n",
      "  k-weight             = 2\n",
      "  epsilon_k            = Array(mean=4.3182e-4, std=3.9391e-4)\n",
      "  epsilon_r            = 0.0074216\n",
      "  n_independent        = 20.385\n",
      " \n",
      "[[Paths]]\n",
      " = Path 'Zn_Se245' = Zn K Edge\n",
      "    feffdat file = /Users/Newville/.larch/feff/Zn1_K_Stilleite_cif11535/feff0001.dat, from feff run 'Zn1_K_Stilleite_cif11535'\n",
      "    geometry  atom      x        y        z      ipot\n",
      "              Zn      -0.0000, -0.0000, -0.0000  0 (absorber)\n",
      "              Se       1.4169,  1.4169,  1.4169  1\n",
      "     reff   =  2.4541000\n",
      "     degen  =  1.0000000\n",
      "     n*s02  =  3.8012783  := '4.0 * s02'\n",
      "     e0     =  1.2705377  := 'e0'\n",
      "     r      =  2.4509711  := 'reff + delr_Se245'\n",
      "     deltar = -0.0031289  := 'delr_Se245'\n",
      "     sigma2 =  0.0063315  := 'sigma2_Se245'\n",
      "\n",
      " = Path 'Zn_Zn401' = Zn K Edge\n",
      "    feffdat file = /Users/Newville/.larch/feff/Zn1_K_Stilleite_cif11535/feff0002.dat, from feff run 'Zn1_K_Stilleite_cif11535'\n",
      "    geometry  atom      x        y        z      ipot\n",
      "              Zn      -0.0000, -0.0000, -0.0000  0 (absorber)\n",
      "              Zn      -0.0000,  2.8338,  2.8338  2\n",
      "     reff   =  4.0076000\n",
      "     degen  =  1.0000000\n",
      "     n*s02  =  11.403835  := '12.0 * s02'\n",
      "     e0     =  1.2705377  := 'e0'\n",
      "     r      =  4.0188381  := 'reff + delr_Zn401'\n",
      "     deltar =  0.0112381  := 'delr_Zn401'\n",
      "     sigma2 =  0.0210849  := 'sigma2_Zn401'\n",
      "\n",
      "=======================================================\n"
     ]
    }
   ],
   "source": [
    "# to review a fit from the the Feffit history, \n",
    "\n",
    "from larch.xafs.feffit import feffit_report\n",
    "\n",
    "print(feffit_report(session.symbols['znseznxaf'].feffit_history[0]))"
   ]
  },
  {
   "cell_type": "code",
   "execution_count": null,
   "metadata": {},
   "outputs": [],
   "source": []
  }
 ],
 "metadata": {
  "kernelspec": {
   "display_name": "Python 3 (ipykernel)",
   "language": "python",
   "name": "python3"
  },
  "language_info": {
   "codemirror_mode": {
    "name": "ipython",
    "version": 3
   },
   "file_extension": ".py",
   "mimetype": "text/x-python",
   "name": "python",
   "nbconvert_exporter": "python",
   "pygments_lexer": "ipython3",
   "version": "3.11.5"
  }
 },
 "nbformat": 4,
 "nbformat_minor": 4
}
